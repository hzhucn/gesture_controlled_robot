{
 "cells": [
  {
   "cell_type": "code",
   "execution_count": 1,
   "metadata": {},
   "outputs": [],
   "source": [
    "from sklearn.cluster import KMeans\n",
    "from sklearn.neighbors import KNeighborsClassifier, NearestNeighbors\n",
    "from sklearn.model_selection import cross_val_score\n",
    "import sys \n",
    "import numpy as np\n",
    "import matplotlib.pyplot as plt\n",
    "from sklearn.model_selection import train_test_split\n",
    "import cv2\n",
    "import pandas"
   ]
  },
  {
   "cell_type": "code",
   "execution_count": 19,
   "metadata": {},
   "outputs": [],
   "source": [
    "dataset = pandas.read_csv('../dataset_norm.csv', delimiter=',').sort_values(by='move_type')"
   ]
  },
  {
   "cell_type": "code",
   "execution_count": 20,
   "metadata": {},
   "outputs": [
    {
     "data": {
      "text/html": [
       "<div>\n",
       "<table border=\"1\" class=\"dataframe\">\n",
       "  <thead>\n",
       "    <tr style=\"text-align: right;\">\n",
       "      <th></th>\n",
       "      <th>move_type</th>\n",
       "      <th>d_0</th>\n",
       "      <th>d_1</th>\n",
       "      <th>d_2</th>\n",
       "      <th>d_3</th>\n",
       "      <th>d_4</th>\n",
       "      <th>d_5</th>\n",
       "      <th>d_6</th>\n",
       "      <th>d_7</th>\n",
       "      <th>d_8</th>\n",
       "      <th>...</th>\n",
       "      <th>d_-10</th>\n",
       "      <th>d_-9</th>\n",
       "      <th>d_-8</th>\n",
       "      <th>d_-7</th>\n",
       "      <th>d_-6</th>\n",
       "      <th>d_-5</th>\n",
       "      <th>d_-4</th>\n",
       "      <th>d_-3</th>\n",
       "      <th>d_-2</th>\n",
       "      <th>d_-1</th>\n",
       "    </tr>\n",
       "  </thead>\n",
       "  <tbody>\n",
       "    <tr>\n",
       "      <th>150</th>\n",
       "      <td>GO</td>\n",
       "      <td>2.170722e-16</td>\n",
       "      <td>1</td>\n",
       "      <td>0.384187</td>\n",
       "      <td>0.208813</td>\n",
       "      <td>0.216921</td>\n",
       "      <td>0.038474</td>\n",
       "      <td>0.110350</td>\n",
       "      <td>0.082350</td>\n",
       "      <td>0.097247</td>\n",
       "      <td>...</td>\n",
       "      <td>0.009643</td>\n",
       "      <td>0.048340</td>\n",
       "      <td>0.023341</td>\n",
       "      <td>0.128363</td>\n",
       "      <td>0.092402</td>\n",
       "      <td>0.060743</td>\n",
       "      <td>0.192700</td>\n",
       "      <td>0.030283</td>\n",
       "      <td>0.082370</td>\n",
       "      <td>0.066994</td>\n",
       "    </tr>\n",
       "    <tr>\n",
       "      <th>206</th>\n",
       "      <td>GO</td>\n",
       "      <td>1.849303e-16</td>\n",
       "      <td>1</td>\n",
       "      <td>0.318827</td>\n",
       "      <td>0.142795</td>\n",
       "      <td>0.089916</td>\n",
       "      <td>0.028816</td>\n",
       "      <td>0.116524</td>\n",
       "      <td>0.096799</td>\n",
       "      <td>0.066367</td>\n",
       "      <td>...</td>\n",
       "      <td>0.038999</td>\n",
       "      <td>0.037991</td>\n",
       "      <td>0.031443</td>\n",
       "      <td>0.057793</td>\n",
       "      <td>0.117156</td>\n",
       "      <td>0.110077</td>\n",
       "      <td>0.142238</td>\n",
       "      <td>0.076322</td>\n",
       "      <td>0.082293</td>\n",
       "      <td>0.120068</td>\n",
       "    </tr>\n",
       "    <tr>\n",
       "      <th>205</th>\n",
       "      <td>GO</td>\n",
       "      <td>2.640244e-16</td>\n",
       "      <td>1</td>\n",
       "      <td>0.252896</td>\n",
       "      <td>0.102374</td>\n",
       "      <td>0.027737</td>\n",
       "      <td>0.034839</td>\n",
       "      <td>0.062714</td>\n",
       "      <td>0.102908</td>\n",
       "      <td>0.059627</td>\n",
       "      <td>...</td>\n",
       "      <td>0.040863</td>\n",
       "      <td>0.019640</td>\n",
       "      <td>0.059791</td>\n",
       "      <td>0.043802</td>\n",
       "      <td>0.119923</td>\n",
       "      <td>0.051821</td>\n",
       "      <td>0.097050</td>\n",
       "      <td>0.069223</td>\n",
       "      <td>0.102702</td>\n",
       "      <td>0.170406</td>\n",
       "    </tr>\n",
       "    <tr>\n",
       "      <th>204</th>\n",
       "      <td>GO</td>\n",
       "      <td>2.730378e-16</td>\n",
       "      <td>1</td>\n",
       "      <td>0.327660</td>\n",
       "      <td>0.102242</td>\n",
       "      <td>0.027937</td>\n",
       "      <td>0.032844</td>\n",
       "      <td>0.111945</td>\n",
       "      <td>0.120641</td>\n",
       "      <td>0.036026</td>\n",
       "      <td>...</td>\n",
       "      <td>0.017423</td>\n",
       "      <td>0.021744</td>\n",
       "      <td>0.040593</td>\n",
       "      <td>0.011396</td>\n",
       "      <td>0.154387</td>\n",
       "      <td>0.088928</td>\n",
       "      <td>0.064369</td>\n",
       "      <td>0.077308</td>\n",
       "      <td>0.095720</td>\n",
       "      <td>0.182527</td>\n",
       "    </tr>\n",
       "    <tr>\n",
       "      <th>203</th>\n",
       "      <td>GO</td>\n",
       "      <td>3.719606e-16</td>\n",
       "      <td>1</td>\n",
       "      <td>0.357169</td>\n",
       "      <td>0.143961</td>\n",
       "      <td>0.071896</td>\n",
       "      <td>0.071706</td>\n",
       "      <td>0.130099</td>\n",
       "      <td>0.074283</td>\n",
       "      <td>0.085000</td>\n",
       "      <td>...</td>\n",
       "      <td>0.005645</td>\n",
       "      <td>0.004887</td>\n",
       "      <td>0.047136</td>\n",
       "      <td>0.067699</td>\n",
       "      <td>0.116815</td>\n",
       "      <td>0.142041</td>\n",
       "      <td>0.080959</td>\n",
       "      <td>0.091715</td>\n",
       "      <td>0.048963</td>\n",
       "      <td>0.155147</td>\n",
       "    </tr>\n",
       "  </tbody>\n",
       "</table>\n",
       "<p>5 rows × 42 columns</p>\n",
       "</div>"
      ],
      "text/plain": [
       "    move_type           d_0  d_1       d_2       d_3       d_4       d_5  \\\n",
       "150        GO  2.170722e-16    1  0.384187  0.208813  0.216921  0.038474   \n",
       "206        GO  1.849303e-16    1  0.318827  0.142795  0.089916  0.028816   \n",
       "205        GO  2.640244e-16    1  0.252896  0.102374  0.027737  0.034839   \n",
       "204        GO  2.730378e-16    1  0.327660  0.102242  0.027937  0.032844   \n",
       "203        GO  3.719606e-16    1  0.357169  0.143961  0.071896  0.071706   \n",
       "\n",
       "          d_6       d_7       d_8    ...        d_-10      d_-9      d_-8  \\\n",
       "150  0.110350  0.082350  0.097247    ...     0.009643  0.048340  0.023341   \n",
       "206  0.116524  0.096799  0.066367    ...     0.038999  0.037991  0.031443   \n",
       "205  0.062714  0.102908  0.059627    ...     0.040863  0.019640  0.059791   \n",
       "204  0.111945  0.120641  0.036026    ...     0.017423  0.021744  0.040593   \n",
       "203  0.130099  0.074283  0.085000    ...     0.005645  0.004887  0.047136   \n",
       "\n",
       "         d_-7      d_-6      d_-5      d_-4      d_-3      d_-2      d_-1  \n",
       "150  0.128363  0.092402  0.060743  0.192700  0.030283  0.082370  0.066994  \n",
       "206  0.057793  0.117156  0.110077  0.142238  0.076322  0.082293  0.120068  \n",
       "205  0.043802  0.119923  0.051821  0.097050  0.069223  0.102702  0.170406  \n",
       "204  0.011396  0.154387  0.088928  0.064369  0.077308  0.095720  0.182527  \n",
       "203  0.067699  0.116815  0.142041  0.080959  0.091715  0.048963  0.155147  \n",
       "\n",
       "[5 rows x 42 columns]"
      ]
     },
     "execution_count": 20,
     "metadata": {},
     "output_type": "execute_result"
    }
   ],
   "source": [
    "dataset.head()"
   ]
  },
  {
   "cell_type": "code",
   "execution_count": 4,
   "metadata": {},
   "outputs": [],
   "source": [
    "labels = dataset['move_type']\n",
    "\n",
    "columns = [item for item in list(dataset.columns) if item!='move_type']\n",
    "features = dataset[columns]"
   ]
  },
  {
   "cell_type": "code",
   "execution_count": 5,
   "metadata": {},
   "outputs": [],
   "source": [
    "X_train, X_test, y_train, y_test = train_test_split(features.values, labels.values, test_size=0.33, random_state=42)"
   ]
  },
  {
   "cell_type": "markdown",
   "metadata": {},
   "source": [
    "# K-Means clustering"
   ]
  },
  {
   "cell_type": "code",
   "execution_count": 6,
   "metadata": {},
   "outputs": [],
   "source": [
    "n_clusters = 134\n",
    "score = []\n",
    "validation = []\n",
    "for i in range(2,n_clusters):\n",
    "    \n",
    "    kmeans = KMeans(n_clusters=i, random_state=0).fit(X_train)\n",
    "    score.append(kmeans.score(X_test, y_test))\n",
    "    validation.append(kmeans.score(X_train, y_train))\n"
   ]
  },
  {
   "cell_type": "code",
   "execution_count": 7,
   "metadata": {
    "scrolled": true
   },
   "outputs": [
    {
     "data": {
      "image/png": "[encoded data removed]",
      "text/plain": [
       "<matplotlib.figure.Figure at 0x7f4aeab518d0>"
      ]
     },
     "metadata": {},
     "output_type": "display_data"
    }
   ],
   "source": [
    "plt.plot(score)\n",
    "plt.plot(validation, 'r')\n",
    "plt.show()"
   ]
  },
  {
   "cell_type": "code",
   "execution_count": 8,
   "metadata": {},
   "outputs": [],
   "source": [
    "kmeans = KMeans(n_clusters=100, random_state=0, max_iter=10000).fit(X_train)"
   ]
  },
  {
   "cell_type": "code",
   "execution_count": 9,
   "metadata": {},
   "outputs": [
    {
     "data": {
      "text/plain": [
       "(100, 41)"
      ]
     },
     "execution_count": 9,
     "metadata": {},
     "output_type": "execute_result"
    }
   ],
   "source": [
    "kmeans.cluster_centers_.shape"
   ]
  },
  {
   "cell_type": "code",
   "execution_count": 10,
   "metadata": {},
   "outputs": [
    {
     "name": "stdout",
     "output_type": "stream",
     "text": [
      "[74 15 90 55 77 71 77 74  1 73 73 73 73 51 51 71 15 15 55 77 77 77 58 12 93\n",
      " 93 77 93 74 50 12 77 12 42 51 93 78 51 47 77 77 89 89 78 12 33 74 74 77]\n",
      "[51 28 33 42 77 14 58 21 21 21 61 51 14 21 51 51 21 14 32 14 32 14 82 77 15\n",
      "  8 94 15 15 58 86 94 86 67 67 67 67 60  8 50 15 50 50 61 78 51 21 21 61]\n",
      "[78 61 78 78 61 61 21 61 60 77 19 50 12 58 58 89 55 58 15 15 78 93 55  1 93\n",
      "  1 58 81 81 90 67 91 67 91 91 93 12 12  1 12 58 58 78 77 15 12 74 21 74]\n",
      "[12 12 12 12 12 12 15 28  1 12 93 47 12 47 47 51 47 47 89 75 60 66 42 12 73\n",
      " 28 15 94 12 19 19 19 67 67 91 91 60 91 91 58 90 60 60 15 50 86 93  8  8]\n"
     ]
    }
   ],
   "source": [
    "belong_to = kmeans.predict(features.values)\n",
    "print(belong_to[:49])\n",
    "print(belong_to[50:99])\n",
    "print(belong_to[100:149])\n",
    "print(belong_to[150:199])"
   ]
  },
  {
   "cell_type": "code",
   "execution_count": 11,
   "metadata": {},
   "outputs": [],
   "source": [
    "def reconstruct(descriptors):\n",
    "    \"\"\" reconstruct the image using the normalized descriptors and plot it\n",
    "        Keyword arguments: \n",
    "         - descriptors : the normalized fourier descriptors\n",
    "    \"\"\"\n",
    "    contour_reconstruct = np.fft.ifft(descriptors)\n",
    "    contour_reconstruct = np.array(\n",
    "        [contour_reconstruct.real, contour_reconstruct.imag])\n",
    "    contour_reconstruct = np.transpose(contour_reconstruct)\n",
    "    contour_reconstruct = np.expand_dims(contour_reconstruct, axis=1)\n",
    "    # make positive\n",
    "    if contour_reconstruct.min() < 0:\n",
    "        contour_reconstruct -= contour_reconstruct.min()\n",
    "    # normalization\n",
    "    contour_reconstruct *= 800 / contour_reconstruct.max()\n",
    "    # type cast to int32\n",
    "    contour_reconstruct = contour_reconstruct.astype(np.int32, copy=False)\n",
    "    black = np.zeros((800, 800), np.uint8)\n",
    "    # draw and visualize\n",
    "    cv2.drawContours(black, contour_reconstruct, -1, 255, thickness=-1)\n",
    "    cv2.imshow(\"black\", black)\n",
    "    cv2.waitKey(10000)\n",
    "    cv2.imwrite(\"reconstruct_result.jpg\", black)\n",
    "    cv2.destroyAllWindows()"
   ]
  },
  {
   "cell_type": "markdown",
   "metadata": {},
   "source": [
    "### To run if dataset and not dataset norm "
   ]
  },
  {
   "cell_type": "code",
   "execution_count": 12,
   "metadata": {},
   "outputs": [
    {
     "data": {
      "text/plain": [
       "'GO'"
      ]
     },
     "execution_count": 12,
     "metadata": {},
     "output_type": "execute_result"
    }
   ],
   "source": [
    "img_nb = 60\n",
    "complex_descriptors = []\n",
    "for i in range(int(len(features.values[img_nb])/2)):\n",
    "    complex_descriptors.append(complex(features.values[img_nb][2*i], features.values[img_nb][2*i+1]))\n",
    "reconstruct(complex_descriptors)\n",
    "labels[3]"
   ]
  },
  {
   "cell_type": "code",
   "execution_count": 13,
   "metadata": {},
   "outputs": [
    {
     "ename": "ValueError",
     "evalue": "x and y must be the same size",
     "output_type": "error",
     "traceback": [
      "\u001b[0;31m---------------------------------------------------------------------------\u001b[0m",
      "\u001b[0;31mValueError\u001b[0m                                Traceback (most recent call last)",
      "\u001b[0;32m<ipython-input-13-94b86d81c7db>\u001b[0m in \u001b[0;36m<module>\u001b[0;34m()\u001b[0m\n\u001b[0;32m----> 1\u001b[0;31m \u001b[0mplt\u001b[0m\u001b[0;34m.\u001b[0m\u001b[0mscatter\u001b[0m\u001b[0;34m(\u001b[0m\u001b[0mX_test\u001b[0m\u001b[0;34m[\u001b[0m\u001b[0;36m7\u001b[0m\u001b[0;34m]\u001b[0m\u001b[0;34m[\u001b[0m\u001b[0;36m3\u001b[0m\u001b[0;34m:\u001b[0m\u001b[0;34m:\u001b[0m\u001b[0;36m2\u001b[0m\u001b[0;34m]\u001b[0m\u001b[0;34m,\u001b[0m\u001b[0mX_test\u001b[0m\u001b[0;34m[\u001b[0m\u001b[0;36m7\u001b[0m\u001b[0;34m]\u001b[0m\u001b[0;34m[\u001b[0m\u001b[0;36m2\u001b[0m\u001b[0;34m:\u001b[0m\u001b[0;34m:\u001b[0m\u001b[0;36m2\u001b[0m\u001b[0;34m]\u001b[0m \u001b[0;34m)\u001b[0m\u001b[0;34m\u001b[0m\u001b[0m\n\u001b[0m\u001b[1;32m      2\u001b[0m plt.scatter(centers[1, 0], centers[:, 1], marker='o',\n\u001b[1;32m      3\u001b[0m                 c=\"white\", alpha=1, s=200, edgecolor='k')\n\u001b[1;32m      4\u001b[0m \u001b[0mplt\u001b[0m\u001b[0;34m.\u001b[0m\u001b[0mshow\u001b[0m\u001b[0;34m(\u001b[0m\u001b[0;34m)\u001b[0m\u001b[0;34m\u001b[0m\u001b[0m\n",
      "\u001b[0;32m/usr/lib/python3/dist-packages/matplotlib/pyplot.py\u001b[0m in \u001b[0;36mscatter\u001b[0;34m(x, y, s, c, marker, cmap, norm, vmin, vmax, alpha, linewidths, verts, edgecolors, hold, data, **kwargs)\u001b[0m\n\u001b[1;32m   3249\u001b[0m                          \u001b[0mvmin\u001b[0m\u001b[0;34m=\u001b[0m\u001b[0mvmin\u001b[0m\u001b[0;34m,\u001b[0m \u001b[0mvmax\u001b[0m\u001b[0;34m=\u001b[0m\u001b[0mvmax\u001b[0m\u001b[0;34m,\u001b[0m \u001b[0malpha\u001b[0m\u001b[0;34m=\u001b[0m\u001b[0malpha\u001b[0m\u001b[0;34m,\u001b[0m\u001b[0;34m\u001b[0m\u001b[0m\n\u001b[1;32m   3250\u001b[0m                          \u001b[0mlinewidths\u001b[0m\u001b[0;34m=\u001b[0m\u001b[0mlinewidths\u001b[0m\u001b[0;34m,\u001b[0m \u001b[0mverts\u001b[0m\u001b[0;34m=\u001b[0m\u001b[0mverts\u001b[0m\u001b[0;34m,\u001b[0m\u001b[0;34m\u001b[0m\u001b[0m\n\u001b[0;32m-> 3251\u001b[0;31m                          edgecolors=edgecolors, data=data, **kwargs)\n\u001b[0m\u001b[1;32m   3252\u001b[0m     \u001b[0;32mfinally\u001b[0m\u001b[0;34m:\u001b[0m\u001b[0;34m\u001b[0m\u001b[0m\n\u001b[1;32m   3253\u001b[0m         \u001b[0max\u001b[0m\u001b[0;34m.\u001b[0m\u001b[0mhold\u001b[0m\u001b[0;34m(\u001b[0m\u001b[0mwashold\u001b[0m\u001b[0;34m)\u001b[0m\u001b[0;34m\u001b[0m\u001b[0m\n",
      "\u001b[0;32m/usr/lib/python3/dist-packages/matplotlib/__init__.py\u001b[0m in \u001b[0;36minner\u001b[0;34m(ax, *args, **kwargs)\u001b[0m\n\u001b[1;32m   1812\u001b[0m                     warnings.warn(msg % (label_namer, func.__name__),\n\u001b[1;32m   1813\u001b[0m                                   RuntimeWarning, stacklevel=2)\n\u001b[0;32m-> 1814\u001b[0;31m             \u001b[0;32mreturn\u001b[0m \u001b[0mfunc\u001b[0m\u001b[0;34m(\u001b[0m\u001b[0max\u001b[0m\u001b[0;34m,\u001b[0m \u001b[0;34m*\u001b[0m\u001b[0margs\u001b[0m\u001b[0;34m,\u001b[0m \u001b[0;34m**\u001b[0m\u001b[0mkwargs\u001b[0m\u001b[0;34m)\u001b[0m\u001b[0;34m\u001b[0m\u001b[0m\n\u001b[0m\u001b[1;32m   1815\u001b[0m         \u001b[0mpre_doc\u001b[0m \u001b[0;34m=\u001b[0m \u001b[0minner\u001b[0m\u001b[0;34m.\u001b[0m\u001b[0m__doc__\u001b[0m\u001b[0;34m\u001b[0m\u001b[0m\n\u001b[1;32m   1816\u001b[0m         \u001b[0;32mif\u001b[0m \u001b[0mpre_doc\u001b[0m \u001b[0;32mis\u001b[0m \u001b[0;32mNone\u001b[0m\u001b[0;34m:\u001b[0m\u001b[0;34m\u001b[0m\u001b[0m\n",
      "\u001b[0;32m/usr/lib/python3/dist-packages/matplotlib/axes/_axes.py\u001b[0m in \u001b[0;36mscatter\u001b[0;34m(self, x, y, s, c, marker, cmap, norm, vmin, vmax, alpha, linewidths, verts, edgecolors, **kwargs)\u001b[0m\n\u001b[1;32m   3838\u001b[0m         \u001b[0my\u001b[0m \u001b[0;34m=\u001b[0m \u001b[0mnp\u001b[0m\u001b[0;34m.\u001b[0m\u001b[0mma\u001b[0m\u001b[0;34m.\u001b[0m\u001b[0mravel\u001b[0m\u001b[0;34m(\u001b[0m\u001b[0my\u001b[0m\u001b[0;34m)\u001b[0m\u001b[0;34m\u001b[0m\u001b[0m\n\u001b[1;32m   3839\u001b[0m         \u001b[0;32mif\u001b[0m \u001b[0mx\u001b[0m\u001b[0;34m.\u001b[0m\u001b[0msize\u001b[0m \u001b[0;34m!=\u001b[0m \u001b[0my\u001b[0m\u001b[0;34m.\u001b[0m\u001b[0msize\u001b[0m\u001b[0;34m:\u001b[0m\u001b[0;34m\u001b[0m\u001b[0m\n\u001b[0;32m-> 3840\u001b[0;31m             \u001b[0;32mraise\u001b[0m \u001b[0mValueError\u001b[0m\u001b[0;34m(\u001b[0m\u001b[0;34m\"x and y must be the same size\"\u001b[0m\u001b[0;34m)\u001b[0m\u001b[0;34m\u001b[0m\u001b[0m\n\u001b[0m\u001b[1;32m   3841\u001b[0m \u001b[0;34m\u001b[0m\u001b[0m\n\u001b[1;32m   3842\u001b[0m         \u001b[0ms\u001b[0m \u001b[0;34m=\u001b[0m \u001b[0mnp\u001b[0m\u001b[0;34m.\u001b[0m\u001b[0mma\u001b[0m\u001b[0;34m.\u001b[0m\u001b[0mravel\u001b[0m\u001b[0;34m(\u001b[0m\u001b[0ms\u001b[0m\u001b[0;34m)\u001b[0m  \u001b[0;31m# This doesn't have to match x, y in size.\u001b[0m\u001b[0;34m\u001b[0m\u001b[0m\n",
      "\u001b[0;31mValueError\u001b[0m: x and y must be the same size"
     ]
    }
   ],
   "source": [
    "plt.scatter(X_test[7][3::2],X_test[7][2::2] )\n",
    "plt.scatter(centers[1, 0], centers[:, 1], marker='o',\n",
    "                c=\"white\", alpha=1, s=200, edgecolor='k')\n",
    "plt.show()"
   ]
  },
  {
   "cell_type": "markdown",
   "metadata": {},
   "source": [
    "# KNN clustering"
   ]
  },
  {
   "cell_type": "code",
   "execution_count": 21,
   "metadata": {},
   "outputs": [
    {
     "data": {
      "image/png": "[encoded data removed]",
      "text/plain": [
       "<matplotlib.figure.Figure at 0x7f4ae70e2710>"
      ]
     },
     "metadata": {},
     "output_type": "display_data"
    }
   ],
   "source": [
    "# creating odd list of K for KNN\n",
    "myList = list(range(1,100))\n",
    "\n",
    "# subsetting just the odd ones\n",
    "neighbors = filter(lambda x: x % 2 != 0, myList)\n",
    "\n",
    "# empty list that will hold cv scores\n",
    "cv_scores = []\n",
    "\n",
    "# perform 10-fold cross validation\n",
    "for k in neighbors:\n",
    "    knn = KNeighborsClassifier(n_neighbors=k, weights = 'distance')\n",
    "    scores = cross_val_score(knn, X_train, y_train, cv=10, scoring='accuracy')\n",
    "    cv_scores.append(scores.mean())\n",
    "plt.plot(cv_scores)\n",
    "plt.show()"
   ]
  },
  {
   "cell_type": "code",
   "execution_count": 22,
   "metadata": {},
   "outputs": [],
   "source": [
    "knn_classifier = KNeighborsClassifier(n_neighbors=14, weights='distance').fit(X_train,y_train ) "
   ]
  },
  {
   "cell_type": "code",
   "execution_count": 23,
   "metadata": {},
   "outputs": [],
   "source": [
    "knn_belong_to = knn_classifier.predict(features.values)"
   ]
  },
  {
   "cell_type": "code",
   "execution_count": 24,
   "metadata": {},
   "outputs": [],
   "source": [
    "test_prediction = knn_classifier.predict(X_test)"
   ]
  },
  {
   "cell_type": "code",
   "execution_count": 25,
   "metadata": {},
   "outputs": [
    {
     "name": "stdout",
     "output_type": "stream",
     "text": [
      "27\n"
     ]
    }
   ],
   "source": [
    "missclassified = 0\n",
    "for i in range(len(y_test)):\n",
    "    if y_test[i] != test_prediction[i]: \n",
    "        missclassified = missclassified +1\n",
    "print(missclassified)"
   ]
  },
  {
   "cell_type": "markdown",
   "metadata": {},
   "source": [
    "## Feedforward Neural Network "
   ]
  },
  {
   "cell_type": "code",
   "execution_count": 26,
   "metadata": {},
   "outputs": [],
   "source": [
    "from sklearn.neural_network import MLPClassifier\n",
    "clf = MLPClassifier(solver='lbfgs',\n",
    "                     hidden_layer_sizes=(41), random_state=1, \n",
    "                     max_iter = 10000, early_stopping=True)\n",
    "\n",
    "clf.fit(X_train,y_train)                         \n",
    "test_fnn_prediction = clf.predict(X_test)\n",
    "test_fnn_overfit = clf.predict(X_train)"
   ]
  },
  {
   "cell_type": "code",
   "execution_count": 27,
   "metadata": {},
   "outputs": [
    {
     "name": "stdout",
     "output_type": "stream",
     "text": [
      "LEFT missclassified as RIGHT\n",
      "RIGHT missclassified as LEFT\n",
      "RIGHT missclassified as LEFT\n",
      "LEFT missclassified as RIGHT\n",
      "LEFT missclassified as RIGHT\n",
      "RIGHT missclassified as LEFT\n",
      "LEFT missclassified as RIGHT\n",
      "RIGHT missclassified as LEFT\n",
      "RIGHT missclassified as LEFT\n",
      "LEFT missclassified as RIGHT\n",
      "LEFT missclassified as RIGHT\n",
      "RIGHT missclassified as LEFT\n",
      "RIGHT missclassified as LEFT\n",
      "LEFT missclassified as RIGHT\n",
      "LEFT missclassified as RIGHT\n",
      "LEFT missclassified as RIGHT\n",
      "LEFT missclassified as RIGHT\n",
      "RIGHT missclassified as LEFT\n",
      "LEFT missclassified as RIGHT\n",
      "RIGHT missclassified as LEFT\n",
      "LEFT missclassified as RIGHT\n",
      "STOP missclassified as RIGHT\n",
      "LEFT missclassified as RIGHT\n",
      "LEFT missclassified as RIGHT\n",
      "LEFT missclassified as RIGHT\n",
      "7.716049382716049\n"
     ]
    }
   ],
   "source": [
    "count = 0\n",
    "for i in range(len(y_test)):\n",
    "    if y_test[i] != test_fnn_prediction[i]: \n",
    "        print(\"{} missclassified as {}\".format(y_test[i], test_fnn_prediction[i]))\n",
    "        count +=1\n",
    "        \n",
    "print(count/len(y_test)*100)\n"
   ]
  },
  {
   "cell_type": "code",
   "execution_count": 28,
   "metadata": {},
   "outputs": [
    {
     "name": "stdout",
     "output_type": "stream",
     "text": [
      "3.8109756097560976\n"
     ]
    }
   ],
   "source": [
    "for i in range(len(y_train)):\n",
    "    if y_train[i] != test_fnn_overfit[i]: \n",
    "        print(\"{} missclassified as {}\".format(y_train[i], test_fnn_overfit[i]))\n",
    "        count +=1\n",
    "        \n",
    "print(count/len(y_train)*100)"
   ]
  },
  {
   "cell_type": "code",
   "execution_count": null,
   "metadata": {},
   "outputs": [],
   "source": []
  },
  {
   "cell_type": "code",
   "execution_count": null,
   "metadata": {},
   "outputs": [],
   "source": []
  }
 ],
 "metadata": {
  "kernelspec": {
   "display_name": "Python 3",
   "language": "python",
   "name": "python3"
  },
  "language_info": {
   "codemirror_mode": {
    "name": "ipython",
    "version": 3
   },
   "file_extension": ".py",
   "mimetype": "text/x-python",
   "name": "python",
   "nbconvert_exporter": "python",
   "pygments_lexer": "ipython3",
   "version": "3.5.2"
  }
 },
 "nbformat": 4,
 "nbformat_minor": 2
}
