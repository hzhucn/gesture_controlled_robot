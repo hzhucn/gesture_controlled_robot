{
 "cells": [
  {
   "cell_type": "code",
   "execution_count": 1,
   "metadata": {},
   "outputs": [],
   "source": [
    "from sklearn.cluster import KMeans\n",
    "from sklearn.neighbors import KNeighborsClassifier, NearestNeighbors\n",
    "from sklearn.model_selection import cross_val_score\n",
    "import sys \n",
    "import numpy as np\n",
    "import matplotlib.pyplot as plt\n",
    "from sklearn.model_selection import train_test_split\n",
    "import cv2\n",
    "import pandas"
   ]
  },
  {
   "cell_type": "code",
   "execution_count": 2,
   "metadata": {},
   "outputs": [],
   "source": [
    "dataset = pandas.read_csv('../dataset_norm.csv', delimiter=',').sort_values(by='move_type')"
   ]
  },
  {
   "cell_type": "code",
   "execution_count": 3,
   "metadata": {},
   "outputs": [
    {
     "data": {
      "text/html": [
       "<div>\n",
       "<table border=\"1\" class=\"dataframe\">\n",
       "  <thead>\n",
       "    <tr style=\"text-align: right;\">\n",
       "      <th></th>\n",
       "      <th>move_type</th>\n",
       "      <th>d_0</th>\n",
       "      <th>d_1</th>\n",
       "      <th>d_2</th>\n",
       "      <th>d_3</th>\n",
       "      <th>d_4</th>\n",
       "      <th>d_5</th>\n",
       "      <th>d_6</th>\n",
       "      <th>d_7</th>\n",
       "      <th>d_8</th>\n",
       "      <th>...</th>\n",
       "      <th>d_-10</th>\n",
       "      <th>d_-9</th>\n",
       "      <th>d_-8</th>\n",
       "      <th>d_-7</th>\n",
       "      <th>d_-6</th>\n",
       "      <th>d_-5</th>\n",
       "      <th>d_-4</th>\n",
       "      <th>d_-3</th>\n",
       "      <th>d_-2</th>\n",
       "      <th>d_-1</th>\n",
       "    </tr>\n",
       "  </thead>\n",
       "  <tbody>\n",
       "    <tr>\n",
       "      <th>150</th>\n",
       "      <td>GO</td>\n",
       "      <td>2.170722e-16</td>\n",
       "      <td>1</td>\n",
       "      <td>0.384187</td>\n",
       "      <td>0.208813</td>\n",
       "      <td>0.216921</td>\n",
       "      <td>0.038474</td>\n",
       "      <td>0.110350</td>\n",
       "      <td>0.082350</td>\n",
       "      <td>0.097247</td>\n",
       "      <td>...</td>\n",
       "      <td>0.009643</td>\n",
       "      <td>0.048340</td>\n",
       "      <td>0.023341</td>\n",
       "      <td>0.128363</td>\n",
       "      <td>0.092402</td>\n",
       "      <td>0.060743</td>\n",
       "      <td>0.192700</td>\n",
       "      <td>0.030283</td>\n",
       "      <td>0.082370</td>\n",
       "      <td>0.066994</td>\n",
       "    </tr>\n",
       "    <tr>\n",
       "      <th>206</th>\n",
       "      <td>GO</td>\n",
       "      <td>1.849303e-16</td>\n",
       "      <td>1</td>\n",
       "      <td>0.318827</td>\n",
       "      <td>0.142795</td>\n",
       "      <td>0.089916</td>\n",
       "      <td>0.028816</td>\n",
       "      <td>0.116524</td>\n",
       "      <td>0.096799</td>\n",
       "      <td>0.066367</td>\n",
       "      <td>...</td>\n",
       "      <td>0.038999</td>\n",
       "      <td>0.037991</td>\n",
       "      <td>0.031443</td>\n",
       "      <td>0.057793</td>\n",
       "      <td>0.117156</td>\n",
       "      <td>0.110077</td>\n",
       "      <td>0.142238</td>\n",
       "      <td>0.076322</td>\n",
       "      <td>0.082293</td>\n",
       "      <td>0.120068</td>\n",
       "    </tr>\n",
       "    <tr>\n",
       "      <th>205</th>\n",
       "      <td>GO</td>\n",
       "      <td>2.640244e-16</td>\n",
       "      <td>1</td>\n",
       "      <td>0.252896</td>\n",
       "      <td>0.102374</td>\n",
       "      <td>0.027737</td>\n",
       "      <td>0.034839</td>\n",
       "      <td>0.062714</td>\n",
       "      <td>0.102908</td>\n",
       "      <td>0.059627</td>\n",
       "      <td>...</td>\n",
       "      <td>0.040863</td>\n",
       "      <td>0.019640</td>\n",
       "      <td>0.059791</td>\n",
       "      <td>0.043802</td>\n",
       "      <td>0.119923</td>\n",
       "      <td>0.051821</td>\n",
       "      <td>0.097050</td>\n",
       "      <td>0.069223</td>\n",
       "      <td>0.102702</td>\n",
       "      <td>0.170406</td>\n",
       "    </tr>\n",
       "    <tr>\n",
       "      <th>204</th>\n",
       "      <td>GO</td>\n",
       "      <td>2.730378e-16</td>\n",
       "      <td>1</td>\n",
       "      <td>0.327660</td>\n",
       "      <td>0.102242</td>\n",
       "      <td>0.027937</td>\n",
       "      <td>0.032844</td>\n",
       "      <td>0.111945</td>\n",
       "      <td>0.120641</td>\n",
       "      <td>0.036026</td>\n",
       "      <td>...</td>\n",
       "      <td>0.017423</td>\n",
       "      <td>0.021744</td>\n",
       "      <td>0.040593</td>\n",
       "      <td>0.011396</td>\n",
       "      <td>0.154387</td>\n",
       "      <td>0.088928</td>\n",
       "      <td>0.064369</td>\n",
       "      <td>0.077308</td>\n",
       "      <td>0.095720</td>\n",
       "      <td>0.182527</td>\n",
       "    </tr>\n",
       "    <tr>\n",
       "      <th>203</th>\n",
       "      <td>GO</td>\n",
       "      <td>3.719606e-16</td>\n",
       "      <td>1</td>\n",
       "      <td>0.357169</td>\n",
       "      <td>0.143961</td>\n",
       "      <td>0.071896</td>\n",
       "      <td>0.071706</td>\n",
       "      <td>0.130099</td>\n",
       "      <td>0.074283</td>\n",
       "      <td>0.085000</td>\n",
       "      <td>...</td>\n",
       "      <td>0.005645</td>\n",
       "      <td>0.004887</td>\n",
       "      <td>0.047136</td>\n",
       "      <td>0.067699</td>\n",
       "      <td>0.116815</td>\n",
       "      <td>0.142041</td>\n",
       "      <td>0.080959</td>\n",
       "      <td>0.091715</td>\n",
       "      <td>0.048963</td>\n",
       "      <td>0.155147</td>\n",
       "    </tr>\n",
       "  </tbody>\n",
       "</table>\n",
       "<p>5 rows × 52 columns</p>\n",
       "</div>"
      ],
      "text/plain": [
       "    move_type           d_0  d_1       d_2       d_3       d_4       d_5  \\\n",
       "150        GO  2.170722e-16    1  0.384187  0.208813  0.216921  0.038474   \n",
       "206        GO  1.849303e-16    1  0.318827  0.142795  0.089916  0.028816   \n",
       "205        GO  2.640244e-16    1  0.252896  0.102374  0.027737  0.034839   \n",
       "204        GO  2.730378e-16    1  0.327660  0.102242  0.027937  0.032844   \n",
       "203        GO  3.719606e-16    1  0.357169  0.143961  0.071896  0.071706   \n",
       "\n",
       "          d_6       d_7       d_8    ...        d_-10      d_-9      d_-8  \\\n",
       "150  0.110350  0.082350  0.097247    ...     0.009643  0.048340  0.023341   \n",
       "206  0.116524  0.096799  0.066367    ...     0.038999  0.037991  0.031443   \n",
       "205  0.062714  0.102908  0.059627    ...     0.040863  0.019640  0.059791   \n",
       "204  0.111945  0.120641  0.036026    ...     0.017423  0.021744  0.040593   \n",
       "203  0.130099  0.074283  0.085000    ...     0.005645  0.004887  0.047136   \n",
       "\n",
       "         d_-7      d_-6      d_-5      d_-4      d_-3      d_-2      d_-1  \n",
       "150  0.128363  0.092402  0.060743  0.192700  0.030283  0.082370  0.066994  \n",
       "206  0.057793  0.117156  0.110077  0.142238  0.076322  0.082293  0.120068  \n",
       "205  0.043802  0.119923  0.051821  0.097050  0.069223  0.102702  0.170406  \n",
       "204  0.011396  0.154387  0.088928  0.064369  0.077308  0.095720  0.182527  \n",
       "203  0.067699  0.116815  0.142041  0.080959  0.091715  0.048963  0.155147  \n",
       "\n",
       "[5 rows x 52 columns]"
      ]
     },
     "execution_count": 3,
     "metadata": {},
     "output_type": "execute_result"
    }
   ],
   "source": [
    "dataset.head()"
   ]
  },
  {
   "cell_type": "code",
   "execution_count": 4,
   "metadata": {},
   "outputs": [],
   "source": [
    "labels = dataset['move_type']\n",
    "\n",
    "columns = [item for item in list(dataset.columns) if item!='move_type']\n",
    "features = dataset[columns]"
   ]
  },
  {
   "cell_type": "code",
   "execution_count": 5,
   "metadata": {},
   "outputs": [],
   "source": [
    "X_train, X_test, y_train, y_test = train_test_split(features.values, labels.values, test_size=0.33, random_state=42)"
   ]
  },
  {
   "cell_type": "markdown",
   "metadata": {},
   "source": [
    "# K-Means clustering"
   ]
  },
  {
   "cell_type": "code",
   "execution_count": 6,
   "metadata": {},
   "outputs": [],
   "source": [
    "n_clusters = 134\n",
    "score = []\n",
    "validation = []\n",
    "for i in range(2,n_clusters):\n",
    "    \n",
    "    kmeans = KMeans(n_clusters=i, random_state=0).fit(X_train)\n",
    "    score.append(kmeans.score(X_test, y_test))\n",
    "    validation.append(kmeans.score(X_train, y_train))\n"
   ]
  },
  {
   "cell_type": "code",
   "execution_count": 7,
   "metadata": {
    "scrolled": true
   },
   "outputs": [
    {
     "data": {
      "image/png": "[encoded data removed]",
      "text/plain": [
       "<matplotlib.figure.Figure at 0x7ff9172b0748>"
      ]
     },
     "metadata": {},
     "output_type": "display_data"
    }
   ],
   "source": [
    "plt.plot(score)\n",
    "plt.plot(validation, 'r')\n",
    "plt.show()"
   ]
  },
  {
   "cell_type": "code",
   "execution_count": 8,
   "metadata": {},
   "outputs": [],
   "source": [
    "kmeans = KMeans(n_clusters=100, random_state=0, max_iter=10000).fit(X_train)"
   ]
  },
  {
   "cell_type": "code",
   "execution_count": 9,
   "metadata": {},
   "outputs": [
    {
     "data": {
      "text/plain": [
       "(100, 51)"
      ]
     },
     "execution_count": 9,
     "metadata": {},
     "output_type": "execute_result"
    }
   ],
   "source": [
    "kmeans.cluster_centers_.shape"
   ]
  },
  {
   "cell_type": "code",
   "execution_count": 10,
   "metadata": {},
   "outputs": [
    {
     "name": "stdout",
     "output_type": "stream",
     "text": [
      "[96 36 71 94 70 83 82 98  0 60 60 60 60 34 34 83 36 36 94 42 42 42 62 35 70\n",
      " 28 42 62 46 51 63 42 35 28 30 70 11 30 69 42 42 87 94 11 35 68 98  7 87]\n",
      "[87 39 68 35 87 34 89 34 44 44 44 30 34 34 30 34 34 34 91 94 91 81 79 70 36\n",
      " 86 86  8 36 62 22 86 17  8 23 23 23 97  8 17 51 51 51 44 11 30 34 34 44]\n",
      "[11 44 11 11 44 44 34 44 97 42 46 76 63 89 89 34  2 89 36 62  2 24 61 42 24\n",
      "  0 89 86 85 71 23 23 23 46 46 28 28 28 17 63 89 89  2 42 36 35 98 34 69]\n",
      "[63 63 63 63 63 63  8 69 70 63 70 81 35 81 81 87 81 81 87 78 56 14 50 35 51\n",
      " 39 51 86 35 46 23 46 23 23 46 46 56 46 46 89 71 97 56 62 51 73 70  8 86]\n"
     ]
    }
   ],
   "source": [
    "belong_to = kmeans.predict(features.values)\n",
    "print(belong_to[:49])\n",
    "print(belong_to[50:99])\n",
    "print(belong_to[100:149])\n",
    "print(belong_to[150:199])"
   ]
  },
  {
   "cell_type": "code",
   "execution_count": 11,
   "metadata": {},
   "outputs": [],
   "source": [
    "def reconstruct(descriptors):\n",
    "    \"\"\" reconstruct the image using the normalized descriptors and plot it\n",
    "        Keyword arguments: \n",
    "         - descriptors : the normalized fourier descriptors\n",
    "    \"\"\"\n",
    "    contour_reconstruct = np.fft.ifft(descriptors)\n",
    "    contour_reconstruct = np.array(\n",
    "        [contour_reconstruct.real, contour_reconstruct.imag])\n",
    "    contour_reconstruct = np.transpose(contour_reconstruct)\n",
    "    contour_reconstruct = np.expand_dims(contour_reconstruct, axis=1)\n",
    "    # make positive\n",
    "    if contour_reconstruct.min() < 0:\n",
    "        contour_reconstruct -= contour_reconstruct.min()\n",
    "    # normalization\n",
    "    contour_reconstruct *= 800 / contour_reconstruct.max()\n",
    "    # type cast to int32\n",
    "    contour_reconstruct = contour_reconstruct.astype(np.int32, copy=False)\n",
    "    black = np.zeros((800, 800), np.uint8)\n",
    "    # draw and visualize\n",
    "    cv2.drawContours(black, contour_reconstruct, -1, 255, thickness=-1)\n",
    "    cv2.imshow(\"black\", black)\n",
    "    cv2.waitKey(10000)\n",
    "    cv2.imwrite(\"reconstruct_result.jpg\", black)\n",
    "    cv2.destroyAllWindows()"
   ]
  },
  {
   "cell_type": "markdown",
   "metadata": {},
   "source": [
    "# KNN clustering"
   ]
  },
  {
   "cell_type": "code",
   "execution_count": 14,
   "metadata": {},
   "outputs": [
    {
     "data": {
      "image/png": "[encoded data removed]",
      "text/plain": [
       "<matplotlib.figure.Figure at 0x7ff954636978>"
      ]
     },
     "metadata": {},
     "output_type": "display_data"
    }
   ],
   "source": [
    "# creating odd list of K for KNN\n",
    "myList = list(range(1,100))\n",
    "\n",
    "# subsetting just the odd ones\n",
    "neighbors = filter(lambda x: x % 2 != 0, myList)\n",
    "\n",
    "# empty list that will hold cv scores\n",
    "cv_scores = []\n",
    "\n",
    "# perform 10-fold cross validation\n",
    "for k in neighbors:\n",
    "    knn = KNeighborsClassifier(n_neighbors=k, weights = 'distance')\n",
    "    scores = cross_val_score(knn, X_train, y_train, cv=10, scoring='accuracy')\n",
    "    cv_scores.append(scores.mean())\n",
    "plt.plot(cv_scores)\n",
    "plt.show()"
   ]
  },
  {
   "cell_type": "code",
   "execution_count": 41,
   "metadata": {},
   "outputs": [],
   "source": [
    "knn_classifier = KNeighborsClassifier(n_neighbors=5, weights='distance').fit(X_train,y_train ) "
   ]
  },
  {
   "cell_type": "code",
   "execution_count": 42,
   "metadata": {},
   "outputs": [],
   "source": [
    "knn_belong_to = knn_classifier.predict(features.values)"
   ]
  },
  {
   "cell_type": "code",
   "execution_count": 43,
   "metadata": {},
   "outputs": [],
   "source": [
    "test_prediction = knn_classifier.predict(X_test)"
   ]
  },
  {
   "cell_type": "code",
   "execution_count": 44,
   "metadata": {},
   "outputs": [
    {
     "name": "stdout",
     "output_type": "stream",
     "text": [
      "3\n"
     ]
    }
   ],
   "source": [
    "missclassified = 0\n",
    "for i in range(len(y_test)):\n",
    "    if y_test[i] != test_prediction[i]: \n",
    "        missclassified = missclassified +1\n",
    "print(missclassified)"
   ]
  },
  {
   "cell_type": "markdown",
   "metadata": {},
   "source": [
    "## Feedforward Neural Network "
   ]
  },
  {
   "cell_type": "code",
   "execution_count": 11,
   "metadata": {},
   "outputs": [],
   "source": [
    "from sklearn.neural_network import MLPClassifier\n",
    "clf = MLPClassifier(solver='lbfgs',\n",
    "                     hidden_layer_sizes=(41), random_state=1, \n",
    "                     max_iter = 10000, early_stopping=True)\n",
    "\n",
    "clf.fit(X_train,y_train)                         \n",
    "test_fnn_prediction = clf.predict(X_test)\n",
    "test_fnn_overfit = clf.predict(X_train)"
   ]
  },
  {
   "cell_type": "code",
   "execution_count": 12,
   "metadata": {},
   "outputs": [
    {
     "name": "stdout",
     "output_type": "stream",
     "text": [
      "0.0\n"
     ]
    }
   ],
   "source": [
    "count = 0\n",
    "for i in range(len(y_test)):\n",
    "    if y_test[i] != test_fnn_prediction[i]: \n",
    "        print(\"{} missclassified as {}\".format(y_test[i], test_fnn_prediction[i]))\n",
    "        count +=1\n",
    "        \n",
    "print(count/len(y_test)*100)\n"
   ]
  },
  {
   "cell_type": "code",
   "execution_count": 13,
   "metadata": {},
   "outputs": [
    {
     "name": "stdout",
     "output_type": "stream",
     "text": [
      "0.0\n"
     ]
    }
   ],
   "source": [
    "for i in range(len(y_train)):\n",
    "    if y_train[i] != test_fnn_overfit[i]: \n",
    "        print(\"{} missclassified as {}\".format(y_train[i], test_fnn_overfit[i]))\n",
    "        count +=1\n",
    "        \n",
    "print(count/len(y_train)*100)"
   ]
  },
  {
   "cell_type": "code",
   "execution_count": 20,
   "metadata": {},
   "outputs": [
    {
     "data": {
      "text/plain": [
       "array([[78,  0,  0,  0],\n",
       "       [ 0, 82,  0,  0],\n",
       "       [ 0,  0, 62,  0],\n",
       "       [ 0,  0,  0, 75]])"
      ]
     },
     "execution_count": 20,
     "metadata": {},
     "output_type": "execute_result"
    }
   ],
   "source": [
    "from sklearn.metrics import confusion_matrix\n",
    "confusion_matrix(y_test, test_fnn_prediction)"
   ]
  },
  {
   "cell_type": "code",
   "execution_count": null,
   "metadata": {},
   "outputs": [],
   "source": []
  }
 ],
 "metadata": {
  "kernelspec": {
   "display_name": "Python 3",
   "language": "python",
   "name": "python3"
  },
  "language_info": {
   "codemirror_mode": {
    "name": "ipython",
    "version": 3
   },
   "file_extension": ".py",
   "mimetype": "text/x-python",
   "name": "python",
   "nbconvert_exporter": "python",
   "pygments_lexer": "ipython3",
   "version": "3.5.2"
  }
 },
 "nbformat": 4,
 "nbformat_minor": 2
}
