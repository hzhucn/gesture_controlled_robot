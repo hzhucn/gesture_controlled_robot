{
 "cells": [
  {
   "cell_type": "code",
   "execution_count": 21,
   "metadata": {},
   "outputs": [],
   "source": [
    "from sklearn.cluster import KMeans\n",
    "from sklearn.neighbors import KNeighborsClassifier, NearestNeighbors\n",
    "from sklearn.model_selection import cross_val_score\n",
    "from sklearn.metrics import confusion_matrix, silhouette_score, silhouette_samples\n",
    "from sklearn.neural_network import MLPClassifier\n",
    "\n",
    "import itertools\n",
    "import sys \n",
    "import numpy as np\n",
    "import matplotlib.pyplot as plt\n",
    "from sklearn.model_selection import train_test_split\n",
    "import cv2\n",
    "import pandas"
   ]
  },
  {
   "cell_type": "code",
   "execution_count": 2,
   "metadata": {},
   "outputs": [],
   "source": [
    "dataset = pandas.read_csv('../dataset_norm.csv', delimiter=',').sort_values(by='move_type')"
   ]
  },
  {
   "cell_type": "code",
   "execution_count": 3,
   "metadata": {},
   "outputs": [
    {
     "data": {
      "text/html": [
       "<div>\n",
       "<table border=\"1\" class=\"dataframe\">\n",
       "  <thead>\n",
       "    <tr style=\"text-align: right;\">\n",
       "      <th></th>\n",
       "      <th>move_type</th>\n",
       "      <th>d_0</th>\n",
       "      <th>d_1</th>\n",
       "      <th>d_2</th>\n",
       "      <th>d_3</th>\n",
       "      <th>d_4</th>\n",
       "      <th>d_5</th>\n",
       "      <th>d_6</th>\n",
       "      <th>d_7</th>\n",
       "      <th>d_8</th>\n",
       "      <th>...</th>\n",
       "      <th>d_-10</th>\n",
       "      <th>d_-9</th>\n",
       "      <th>d_-8</th>\n",
       "      <th>d_-7</th>\n",
       "      <th>d_-6</th>\n",
       "      <th>d_-5</th>\n",
       "      <th>d_-4</th>\n",
       "      <th>d_-3</th>\n",
       "      <th>d_-2</th>\n",
       "      <th>d_-1</th>\n",
       "    </tr>\n",
       "  </thead>\n",
       "  <tbody>\n",
       "    <tr>\n",
       "      <th>150</th>\n",
       "      <td>GO</td>\n",
       "      <td>2.170722e-16</td>\n",
       "      <td>1</td>\n",
       "      <td>0.384187</td>\n",
       "      <td>0.208813</td>\n",
       "      <td>0.216921</td>\n",
       "      <td>0.038474</td>\n",
       "      <td>0.110350</td>\n",
       "      <td>0.082350</td>\n",
       "      <td>0.097247</td>\n",
       "      <td>...</td>\n",
       "      <td>0.009643</td>\n",
       "      <td>0.048340</td>\n",
       "      <td>0.023341</td>\n",
       "      <td>0.128363</td>\n",
       "      <td>0.092402</td>\n",
       "      <td>0.060743</td>\n",
       "      <td>0.192700</td>\n",
       "      <td>0.030283</td>\n",
       "      <td>0.082370</td>\n",
       "      <td>0.066994</td>\n",
       "    </tr>\n",
       "    <tr>\n",
       "      <th>206</th>\n",
       "      <td>GO</td>\n",
       "      <td>1.849303e-16</td>\n",
       "      <td>1</td>\n",
       "      <td>0.318827</td>\n",
       "      <td>0.142795</td>\n",
       "      <td>0.089916</td>\n",
       "      <td>0.028816</td>\n",
       "      <td>0.116524</td>\n",
       "      <td>0.096799</td>\n",
       "      <td>0.066367</td>\n",
       "      <td>...</td>\n",
       "      <td>0.038999</td>\n",
       "      <td>0.037991</td>\n",
       "      <td>0.031443</td>\n",
       "      <td>0.057793</td>\n",
       "      <td>0.117156</td>\n",
       "      <td>0.110077</td>\n",
       "      <td>0.142238</td>\n",
       "      <td>0.076322</td>\n",
       "      <td>0.082293</td>\n",
       "      <td>0.120068</td>\n",
       "    </tr>\n",
       "    <tr>\n",
       "      <th>205</th>\n",
       "      <td>GO</td>\n",
       "      <td>2.640244e-16</td>\n",
       "      <td>1</td>\n",
       "      <td>0.252896</td>\n",
       "      <td>0.102374</td>\n",
       "      <td>0.027737</td>\n",
       "      <td>0.034839</td>\n",
       "      <td>0.062714</td>\n",
       "      <td>0.102908</td>\n",
       "      <td>0.059627</td>\n",
       "      <td>...</td>\n",
       "      <td>0.040863</td>\n",
       "      <td>0.019640</td>\n",
       "      <td>0.059791</td>\n",
       "      <td>0.043802</td>\n",
       "      <td>0.119923</td>\n",
       "      <td>0.051821</td>\n",
       "      <td>0.097050</td>\n",
       "      <td>0.069223</td>\n",
       "      <td>0.102702</td>\n",
       "      <td>0.170406</td>\n",
       "    </tr>\n",
       "    <tr>\n",
       "      <th>204</th>\n",
       "      <td>GO</td>\n",
       "      <td>2.730378e-16</td>\n",
       "      <td>1</td>\n",
       "      <td>0.327660</td>\n",
       "      <td>0.102242</td>\n",
       "      <td>0.027937</td>\n",
       "      <td>0.032844</td>\n",
       "      <td>0.111945</td>\n",
       "      <td>0.120641</td>\n",
       "      <td>0.036026</td>\n",
       "      <td>...</td>\n",
       "      <td>0.017423</td>\n",
       "      <td>0.021744</td>\n",
       "      <td>0.040593</td>\n",
       "      <td>0.011396</td>\n",
       "      <td>0.154387</td>\n",
       "      <td>0.088928</td>\n",
       "      <td>0.064369</td>\n",
       "      <td>0.077308</td>\n",
       "      <td>0.095720</td>\n",
       "      <td>0.182527</td>\n",
       "    </tr>\n",
       "    <tr>\n",
       "      <th>203</th>\n",
       "      <td>GO</td>\n",
       "      <td>3.719606e-16</td>\n",
       "      <td>1</td>\n",
       "      <td>0.357169</td>\n",
       "      <td>0.143961</td>\n",
       "      <td>0.071896</td>\n",
       "      <td>0.071706</td>\n",
       "      <td>0.130099</td>\n",
       "      <td>0.074283</td>\n",
       "      <td>0.085000</td>\n",
       "      <td>...</td>\n",
       "      <td>0.005645</td>\n",
       "      <td>0.004887</td>\n",
       "      <td>0.047136</td>\n",
       "      <td>0.067699</td>\n",
       "      <td>0.116815</td>\n",
       "      <td>0.142041</td>\n",
       "      <td>0.080959</td>\n",
       "      <td>0.091715</td>\n",
       "      <td>0.048963</td>\n",
       "      <td>0.155147</td>\n",
       "    </tr>\n",
       "  </tbody>\n",
       "</table>\n",
       "<p>5 rows × 52 columns</p>\n",
       "</div>"
      ],
      "text/plain": [
       "    move_type           d_0  d_1       d_2       d_3       d_4       d_5  \\\n",
       "150        GO  2.170722e-16    1  0.384187  0.208813  0.216921  0.038474   \n",
       "206        GO  1.849303e-16    1  0.318827  0.142795  0.089916  0.028816   \n",
       "205        GO  2.640244e-16    1  0.252896  0.102374  0.027737  0.034839   \n",
       "204        GO  2.730378e-16    1  0.327660  0.102242  0.027937  0.032844   \n",
       "203        GO  3.719606e-16    1  0.357169  0.143961  0.071896  0.071706   \n",
       "\n",
       "          d_6       d_7       d_8    ...        d_-10      d_-9      d_-8  \\\n",
       "150  0.110350  0.082350  0.097247    ...     0.009643  0.048340  0.023341   \n",
       "206  0.116524  0.096799  0.066367    ...     0.038999  0.037991  0.031443   \n",
       "205  0.062714  0.102908  0.059627    ...     0.040863  0.019640  0.059791   \n",
       "204  0.111945  0.120641  0.036026    ...     0.017423  0.021744  0.040593   \n",
       "203  0.130099  0.074283  0.085000    ...     0.005645  0.004887  0.047136   \n",
       "\n",
       "         d_-7      d_-6      d_-5      d_-4      d_-3      d_-2      d_-1  \n",
       "150  0.128363  0.092402  0.060743  0.192700  0.030283  0.082370  0.066994  \n",
       "206  0.057793  0.117156  0.110077  0.142238  0.076322  0.082293  0.120068  \n",
       "205  0.043802  0.119923  0.051821  0.097050  0.069223  0.102702  0.170406  \n",
       "204  0.011396  0.154387  0.088928  0.064369  0.077308  0.095720  0.182527  \n",
       "203  0.067699  0.116815  0.142041  0.080959  0.091715  0.048963  0.155147  \n",
       "\n",
       "[5 rows x 52 columns]"
      ]
     },
     "execution_count": 3,
     "metadata": {},
     "output_type": "execute_result"
    }
   ],
   "source": [
    "dataset.head()"
   ]
  },
  {
   "cell_type": "code",
   "execution_count": 4,
   "metadata": {},
   "outputs": [],
   "source": [
    "labels = dataset['move_type']\n",
    "\n",
    "columns = [item for item in list(dataset.columns) if item!='move_type']\n",
    "features = dataset[columns]\n",
    "classes = labels.unique()"
   ]
  },
  {
   "cell_type": "code",
   "execution_count": 5,
   "metadata": {},
   "outputs": [],
   "source": [
    "X_train, X_test, y_train, y_test = train_test_split(features.values, labels.values, test_size=0.33, random_state=42)"
   ]
  },
  {
   "cell_type": "markdown",
   "metadata": {},
   "source": [
    "# K-Means clustering"
   ]
  },
  {
   "cell_type": "code",
   "execution_count": 6,
   "metadata": {},
   "outputs": [],
   "source": [
    "n_clusters = 134\n",
    "score = []\n",
    "validation = []\n",
    "silhouette = []\n",
    "for i in range(2,n_clusters):\n",
    "    sample_size = n_clusters\n",
    "    kmeans = KMeans(n_clusters=i, random_state=0).fit(X_train)\n",
    "    score.append(-kmeans.score(X_test, y_test))\n",
    "    validation.append(-kmeans.score(X_train, y_train))\n",
    "    silhouette.append(\n",
    "        silhouette_score(X_train, kmeans.labels_,metric='euclidean',sample_size=sample_size))"
   ]
  },
  {
   "cell_type": "code",
   "execution_count": 7,
   "metadata": {
    "scrolled": true
   },
   "outputs": [
    {
     "data": {
      "image/png": "[encoded data removed]",
      "text/plain": [
       "<matplotlib.figure.Figure at 0x7f119cc81048>"
      ]
     },
     "metadata": {},
     "output_type": "display_data"
    }
   ],
   "source": [
    "fig = plt.figure()\n",
    "ax = fig.add_subplot(111)\n",
    "plt.plot(score)\n",
    "plt.title('Estimation of the optimal number of clusters')\n",
    "ax.set_xlabel('Number of clusters')\n",
    "ax.set_ylabel('Silhouette score')\n",
    "plt.show()\n",
    "fig.savefig('plot_kmeans.png')"
   ]
  },
  {
   "cell_type": "code",
   "execution_count": 8,
   "metadata": {},
   "outputs": [],
   "source": [
    "kmeans = KMeans(n_clusters=4, random_state=0, max_iter=10000).fit(X_train)"
   ]
  },
  {
   "cell_type": "code",
   "execution_count": 9,
   "metadata": {},
   "outputs": [
    {
     "data": {
      "text/plain": [
       "(4, 51)"
      ]
     },
     "execution_count": 9,
     "metadata": {},
     "output_type": "execute_result"
    }
   ],
   "source": [
    "kmeans.cluster_centers_.shape"
   ]
  },
  {
   "cell_type": "code",
   "execution_count": 10,
   "metadata": {},
   "outputs": [
    {
     "name": "stdout",
     "output_type": "stream",
     "text": [
      "[1 1 1 1 1 1 1 1 1 1 1 1 1 1 1 1 1 1 1 1 1 1 1 1 1 1 1 1 1 1 1 1 1 1 1 1 1\n",
      " 1 1 1 1 1 1 1 1 1 1 1 1 1 1 1 1 1 1 1 1 1 1 1 1 1 1 1 1 1 1 1 1 1 1 1 1 1\n",
      " 1 1 1 1 1 1 1 1 1 1 1 1 1 1 1 1 1 1 1 1 1 1 1 1 1 1 1 1 1 1 1 1 1 1 1 1 1\n",
      " 1 1 1 1 1 1 1 1 1 1 1 1 1 1 1 1 1 0 1 1 1 1 1 1 1 1 1 1 1 1 1 1 1 1 1 1 1\n",
      " 1 1 1 1 1 1 1 1 1 1 1 1 1 1 1 1 1 1 1 1 1 1 1 1 1 1 1 1 1 1 1 1 1 1 1 1 1\n",
      " 1 1 1 1 1 1 1 1 1 1 1 1 1 1 1 1 1 1 1 1 1 1 1 1 1 1 1 1 1 1 1 1 1 1 1 1 1\n",
      " 1 1 1 1 1 1 1 1 1 1 1 1 1 1 1 1 1 1 1 1 1 1 1 1 1 1 1]\n",
      "[0 0 0 0 0 0 0 0 0 0 0 0 0 0 0 0 0 0 0 0 0 0 0 0 0 0 0 0 0 0 0 0 0 0 0 0 0\n",
      " 0 0 0 0 0 0 0 0 0 0 0 0 0 0 0 0 0 0 0 0 0 0 0 0 0 0 0 0 0 0 0 0 0 0 0 0 0\n",
      " 0 0 0 0 0 0 0 0 0 0 0 0 0 0 0 0 0 0 0 0 0 0 0 0 0 0 0 0 0 0 0 0 0 0 0 0 0\n",
      " 0 0 0 0 0 0 0 0 0 0 0 0 0 0 0 0 0 0 0 0 0 0 0 0 0 0 0 0 0 0 0 0 0 0 0 0 0\n",
      " 0 0 0 0 0 0 0 0 0 0 0 0 0 0 0 0 0 0 0 0 0 0 0 0 0 0 0 0 0 0 0 0 0 0 0 0 0\n",
      " 0 0 0 0 0 0 0 0 0 0 0 0 0 0 0 0 0 0 0 0 0 0 0 0 0 0 0 0 0 0 0 0 0 0 0 0 0\n",
      " 0 0 0 0 0 0 0 0 0 0 0 0 0 0 0 0 0 0 0 0 0 0 0 0 0 0 0 0 0 0 0 0 0 0 0 0 0\n",
      " 0 0 0 0 0 0 0 0 0 0 0 0 0 0 0 0 0 0 0 0 0 0 0 0 0 0 0 0 0 0 0 0 0 0 0 0 0\n",
      " 0 0 0 0 0 0 0 0 0 0 0 0 0 0 0 0 0 0 0 0 0 0 0 0 0 0 0 0 0 0 0 0 0 0 0 0 0\n",
      " 0 0 0 2 0 0 0 0 0 0 0 0 0 0 0 0 0 2 0 0 0 2 0 0 0 0 0 0 0 0 0 0 0 0 0 0 0\n",
      " 0 0 0 0 0 0 0 0 0 0 0 0 0 0 0 0 0 0 0 0 0 0 0 0 0 0 0 0 0]\n",
      "[2 1 2 2 2 2 2 2 2 2 2 2 2 2 2 2 2 2 2 2 2 2 2 2 2 2 2 2 2 2 2 2 2 2 2 2 2\n",
      " 2 2 2 2 2 2 2 2 2 2 2 2 2 2 2 2 2 2 2 2 2 2 2 2 2 2 0 2 2 2 2 2 2 2 2 3 0\n",
      " 2 0 1 0 0 1 2 0 2 2 2 2 2 2 2 0 2 2 2 2 2 2 2 2 2 2 2 2 2 2 2 2 2 2 2 2 2\n",
      " 2 2 0 2 2 2 0 2 2 2 2 2 3 2 0 2 0 2 0 2 2 2 2 2 0 2 2 2 2 1 2 2 2 2 2 2 2\n",
      " 2 2 2 2 2 2 2 2 2 2 2 2 2 2 2 2 2 2 2 2]\n"
     ]
    }
   ],
   "source": [
    "belong_to = kmeans.predict(features.values)\n",
    "print(belong_to[:249])\n",
    "print(belong_to[250:649])\n",
    "print(belong_to[650:818])"
   ]
  },
  {
   "cell_type": "code",
   "execution_count": 11,
   "metadata": {},
   "outputs": [],
   "source": [
    "def plot_confusion_matrix(cm, classes,\n",
    "                          normalize=False,\n",
    "                          title='Confusion matrix',\n",
    "                          cmap=plt.cm.Blues):\n",
    "    \"\"\"\n",
    "    This function prints and plots the confusion matrix.\n",
    "    Normalization can be applied by setting `normalize=True`.\n",
    "    \"\"\"\n",
    "    if normalize:\n",
    "        cm = cm.astype('float') / cm.sum(axis=1)[:, np.newaxis]\n",
    "\n",
    "\n",
    "    plt.imshow(cm, interpolation='nearest', cmap=cmap)\n",
    "    plt.title(title)\n",
    "    plt.colorbar()\n",
    "    tick_marks = np.arange(len(classes))\n",
    "    plt.xticks(tick_marks, classes, rotation=45)\n",
    "    plt.yticks(tick_marks, classes)\n",
    "\n",
    "    fmt = '.2f' if normalize else 'd'\n",
    "    thresh = cm.max() / 2.\n",
    "    for i, j in itertools.product(range(cm.shape[0]), range(cm.shape[1])):\n",
    "        plt.text(j, i, format(cm[i, j], fmt),\n",
    "                 horizontalalignment=\"center\",\n",
    "                 color=\"white\" if cm[i, j] > thresh else \"black\")\n",
    "\n",
    "    plt.tight_layout()\n",
    "    plt.ylabel('True label')\n",
    "    plt.xlabel('Predicted label')"
   ]
  },
  {
   "cell_type": "code",
   "execution_count": 12,
   "metadata": {},
   "outputs": [],
   "source": [
    "def reconstruct(descriptors):\n",
    "    \"\"\" reconstruct the image using the normalized descriptors and plot it\n",
    "        Keyword arguments: \n",
    "         - descriptors : the normalized fourier descriptors\n",
    "    \"\"\"\n",
    "    contour_reconstruct = np.fft.ifft(descriptors)\n",
    "    contour_reconstruct = np.array(\n",
    "        [contour_reconstruct.real, contour_reconstruct.imag])\n",
    "    contour_reconstruct = np.transpose(contour_reconstruct)\n",
    "    contour_reconstruct = np.expand_dims(contour_reconstruct, axis=1)\n",
    "    # make positive\n",
    "    if contour_reconstruct.min() < 0:\n",
    "        contour_reconstruct -= contour_reconstruct.min()\n",
    "    # normalization\n",
    "    contour_reconstruct *= 800 / contour_reconstruct.max()\n",
    "    # type cast to int32\n",
    "    contour_reconstruct = contour_reconstruct.astype(np.int32, copy=False)\n",
    "    black = np.zeros((800, 800), np.uint8)\n",
    "    # draw and visualize\n",
    "    cv2.drawContours(black, contour_reconstruct, -1, 255, thickness=-1)\n",
    "    cv2.imshow(\"black\", black)\n",
    "    cv2.waitKey(10000)\n",
    "    cv2.imwrite(\"reconstruct_result.jpg\", black)\n",
    "    cv2.destroyAllWindows()"
   ]
  },
  {
   "cell_type": "markdown",
   "metadata": {},
   "source": [
    "# KNN clustering"
   ]
  },
  {
   "cell_type": "code",
   "execution_count": 13,
   "metadata": {},
   "outputs": [],
   "source": [
    "# subsetting just the odd ones\n",
    "neighbors = myList = list(range(1,100,2))\n",
    "\n",
    "# empty list that will hold cv scores\n",
    "cv_scores = []\n",
    "\n",
    "# perform 10-fold cross validation\n",
    "for k in neighbors:\n",
    "    knn = KNeighborsClassifier(n_neighbors=k)\n",
    "    scores = cross_val_score(knn, X_train, y_train, cv=10, scoring='accuracy')\n",
    "    cv_scores.append(scores.mean())\n"
   ]
  },
  {
   "cell_type": "code",
   "execution_count": 14,
   "metadata": {},
   "outputs": [
    {
     "data": {
      "image/png": "[encoded data removed]",
      "text/plain": [
       "<matplotlib.figure.Figure at 0x7f119941b128>"
      ]
     },
     "metadata": {},
     "output_type": "display_data"
    }
   ],
   "source": [
    "fig = plt.figure()\n",
    "ax = fig.add_subplot(111)\n",
    "plt.plot(neighbors, cv_scores, label='cross_validation score')\n",
    "plt.title('Estimation of the optimal number of neighbors')\n",
    "ax.set_xlabel('Number of neighbors')\n",
    "ax.set_ylabel('Score')\n",
    "plt.show()\n",
    "fig.savefig('plot_knn.png')"
   ]
  },
  {
   "cell_type": "code",
   "execution_count": 15,
   "metadata": {},
   "outputs": [],
   "source": [
    "knn_classifier = KNeighborsClassifier(n_neighbors=4).fit(X_train,y_train ) "
   ]
  },
  {
   "cell_type": "code",
   "execution_count": 16,
   "metadata": {},
   "outputs": [],
   "source": [
    "knn_belong_to = knn_classifier.predict(features.values)"
   ]
  },
  {
   "cell_type": "code",
   "execution_count": 17,
   "metadata": {},
   "outputs": [
    {
     "data": {
      "text/plain": [
       "array([[78,  0,  0,  0],\n",
       "       [ 0, 82,  0,  0],\n",
       "       [ 0,  0, 62,  0],\n",
       "       [ 1,  0,  2, 72]])"
      ]
     },
     "execution_count": 17,
     "metadata": {},
     "output_type": "execute_result"
    }
   ],
   "source": [
    "test_prediction = knn_classifier.predict(X_test)\n",
    "confusion_matrix(y_test, test_prediction)"
   ]
  },
  {
   "cell_type": "code",
   "execution_count": 18,
   "metadata": {},
   "outputs": [
    {
     "data": {
      "image/png": "[encoded data removed]",
      "text/plain": [
       "<matplotlib.figure.Figure at 0x7f11993cd940>"
      ]
     },
     "metadata": {},
     "output_type": "display_data"
    },
    {
     "data": {
      "image/png": "[encoded data removed]",
      "text/plain": [
       "<matplotlib.figure.Figure at 0x7f119941b6d8>"
      ]
     },
     "metadata": {},
     "output_type": "display_data"
    }
   ],
   "source": [
    "# Compute confusion matrix\n",
    "cnf_matrix = confusion_matrix(y_test, test_prediction)\n",
    "np.set_printoptions(precision=2)\n",
    "\n",
    "# Plot non-normalized confusion matrix\n",
    "fig_cm = plt.figure()\n",
    "plot_confusion_matrix(cnf_matrix, classes=classes,\n",
    "                      title='Confusion matrix, without normalization KNN')\n",
    "\n",
    "fig_cm.savefig('confusion_matrix_knn.png')\n",
    "\n",
    "# Plot normalized confusion matrix\n",
    "fig_norm_cm = plt.figure()\n",
    "plot_confusion_matrix(cnf_matrix, classes=classes, normalize=True,\n",
    "                      title='Normalized confusion matrix KNN')\n",
    "\n",
    "fig_norm_cm.savefig('normalized_confusion_matrix_knn.png')\n",
    "plt.show()"
   ]
  },
  {
   "cell_type": "code",
   "execution_count": 19,
   "metadata": {},
   "outputs": [
    {
     "name": "stdout",
     "output_type": "stream",
     "text": [
      "3\n"
     ]
    }
   ],
   "source": [
    "missclassified = 0\n",
    "for i in range(len(y_test)):\n",
    "    if y_test[i] != test_prediction[i]: \n",
    "        missclassified = missclassified +1\n",
    "print(missclassified)"
   ]
  },
  {
   "cell_type": "markdown",
   "metadata": {},
   "source": [
    "## Feedforward Neural Network "
   ]
  },
  {
   "cell_type": "code",
   "execution_count": 22,
   "metadata": {},
   "outputs": [],
   "source": [
    "# creating odd list of K for FNN\n",
    "list_of_sizes = list(range(4,100, 2))\n",
    "\n",
    "# empty list that will hold cv scores\n",
    "cv_scores_fnn = []\n",
    "\n",
    "# perform 10-fold cross validation\n",
    "for k in list_of_sizes:\n",
    "    fnn = clf = MLPClassifier(solver='lbfgs',\n",
    "                     hidden_layer_sizes=(k), random_state=None, \n",
    "                     max_iter = 10000, early_stopping=True)\n",
    "\n",
    "    scores = cross_val_score(fnn, X_train, y_train, cv=10, scoring='accuracy')\n",
    "    cv_scores_fnn.append(scores.mean())\n"
   ]
  },
  {
   "cell_type": "code",
   "execution_count": 23,
   "metadata": {},
   "outputs": [
    {
     "data": {
      "image/png": "[encoded data removed]",
      "text/plain": [
       "<matplotlib.figure.Figure at 0x7f119920fba8>"
      ]
     },
     "metadata": {},
     "output_type": "display_data"
    }
   ],
   "source": [
    "fig = plt.figure()\n",
    "ax = fig.add_subplot(111)\n",
    "plt.plot(list_of_sizes,cv_scores_fnn, label='cross_validation score')\n",
    "plt.title('Estimation of the optimal size of the hidden layer')\n",
    "ax.set_xlabel('Hidden layer size')\n",
    "ax.set_ylabel('Score')\n",
    "plt.show()\n",
    "fig.savefig('plot_fnn.png')"
   ]
  },
  {
   "cell_type": "code",
   "execution_count": 24,
   "metadata": {},
   "outputs": [],
   "source": [
    "from sklearn.neural_network import MLPClassifier\n",
    "clf = MLPClassifier(solver='lbfgs',\n",
    "                     hidden_layer_sizes=(45), random_state=42, \n",
    "                     max_iter = 10000, early_stopping=True)\n",
    "\n",
    "clf.fit(X_train,y_train)                         \n",
    "test_fnn_prediction = clf.predict(X_test)\n",
    "test_fnn_overfit = clf.predict(X_train)"
   ]
  },
  {
   "cell_type": "code",
   "execution_count": 25,
   "metadata": {},
   "outputs": [
    {
     "name": "stdout",
     "output_type": "stream",
     "text": [
      "0.0\n"
     ]
    }
   ],
   "source": [
    "count = 0\n",
    "for i in range(len(y_test)):\n",
    "    if y_test[i] != test_fnn_prediction[i]: \n",
    "        print(\"{} missclassified as {}\".format(y_test[i], test_fnn_prediction[i]))\n",
    "        count +=1\n",
    "        \n",
    "print(count/len(y_test)*100)\n"
   ]
  },
  {
   "cell_type": "code",
   "execution_count": 26,
   "metadata": {},
   "outputs": [
    {
     "name": "stdout",
     "output_type": "stream",
     "text": [
      "0.0\n"
     ]
    }
   ],
   "source": [
    "for i in range(len(y_train)):\n",
    "    if y_train[i] != test_fnn_overfit[i]: \n",
    "        print(\"{} missclassified as {}\".format(y_train[i], test_fnn_overfit[i]))\n",
    "        count +=1\n",
    "        \n",
    "print(count/len(y_train)*100)"
   ]
  },
  {
   "cell_type": "code",
   "execution_count": 27,
   "metadata": {},
   "outputs": [
    {
     "data": {
      "text/plain": [
       "array([[78,  0,  0,  0],\n",
       "       [ 0, 82,  0,  0],\n",
       "       [ 0,  0, 62,  0],\n",
       "       [ 0,  0,  0, 75]])"
      ]
     },
     "execution_count": 27,
     "metadata": {},
     "output_type": "execute_result"
    }
   ],
   "source": [
    "confusion_matrix(y_test, test_fnn_prediction)"
   ]
  },
  {
   "cell_type": "code",
   "execution_count": 28,
   "metadata": {},
   "outputs": [
    {
     "data": {
      "text/plain": [
       "array([[171,   0,   0,   0],\n",
       "       [  0, 118,   0,   0],\n",
       "       [  0,   0, 138,   0],\n",
       "       [  0,   0,   0, 175]])"
      ]
     },
     "execution_count": 28,
     "metadata": {},
     "output_type": "execute_result"
    }
   ],
   "source": [
    "confusion_matrix(y_train, test_fnn_overfit)"
   ]
  },
  {
   "cell_type": "code",
   "execution_count": 29,
   "metadata": {},
   "outputs": [
    {
     "data": {
      "image/png": "[encoded data removed]",
      "text/plain": [
       "<matplotlib.figure.Figure at 0x7f11990c36d8>"
      ]
     },
     "metadata": {},
     "output_type": "display_data"
    },
    {
     "data": {
      "image/png": "[encoded data removed]",
      "text/plain": [
       "<matplotlib.figure.Figure at 0x7f119929ecc0>"
      ]
     },
     "metadata": {},
     "output_type": "display_data"
    }
   ],
   "source": [
    "# Compute confusion matrix\n",
    "cnf_matrix_fnn = confusion_matrix(y_test, test_fnn_prediction)\n",
    "np.set_printoptions(precision=2)\n",
    "\n",
    "# Plot non-normalized confusion matrix\n",
    "fig_cm = plt.figure()\n",
    "plot_confusion_matrix(cnf_matrix_fnn, classes=classes,\n",
    "                      title='Confusion matrix, without normalization MLP')\n",
    "\n",
    "fig_cm.savefig('confusion_matrix_fnn.png')\n",
    "\n",
    "# Plot normalized confusion matrix\n",
    "fig_norm_cm = plt.figure()\n",
    "plot_confusion_matrix(cnf_matrix_fnn, classes=classes, normalize=True,\n",
    "                      title='Normalized confusion matrix MLP')\n",
    "\n",
    "fig_norm_cm.savefig('normalized_confusion_matrix_fnn.png')\n",
    "plt.show()\n"
   ]
  },
  {
   "cell_type": "code",
   "execution_count": null,
   "metadata": {},
   "outputs": [],
   "source": []
  }
 ],
 "metadata": {
  "kernelspec": {
   "display_name": "Python 3",
   "language": "python",
   "name": "python3"
  },
  "language_info": {
   "codemirror_mode": {
    "name": "ipython",
    "version": 3
   },
   "file_extension": ".py",
   "mimetype": "text/x-python",
   "name": "python",
   "nbconvert_exporter": "python",
   "pygments_lexer": "ipython3",
   "version": "3.5.2"
  }
 },
 "nbformat": 4,
 "nbformat_minor": 2
}
