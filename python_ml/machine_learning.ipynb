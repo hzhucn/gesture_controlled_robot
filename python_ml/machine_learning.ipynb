{
 "cells": [
  {
   "cell_type": "code",
   "execution_count": 1,
   "metadata": {},
   "outputs": [],
   "source": [
    "from sklearn.cluster import KMeans\n",
    "from sklearn.neighbors import KNeighborsClassifier, NearestNeighbors\n",
    "from sklearn.model_selection import cross_val_score\n",
    "import sys \n",
    "import numpy as np\n",
    "import matplotlib.pyplot as plt\n",
    "from sklearn.model_selection import train_test_split\n",
    "import cv2\n",
    "import pandas"
   ]
  },
  {
   "cell_type": "code",
   "execution_count": 2,
   "metadata": {},
   "outputs": [],
   "source": [
    "dataset = pandas.read_csv('../dataset_norm.csv', delimiter=',').sort_values(by='move_type')"
   ]
  },
  {
   "cell_type": "code",
   "execution_count": 3,
   "metadata": {},
   "outputs": [
    {
     "data": {
      "text/html": [
       "<div>\n",
       "<table border=\"1\" class=\"dataframe\">\n",
       "  <thead>\n",
       "    <tr style=\"text-align: right;\">\n",
       "      <th></th>\n",
       "      <th>move_type</th>\n",
       "      <th>d_0</th>\n",
       "      <th>d_1</th>\n",
       "      <th>d_2</th>\n",
       "      <th>d_3</th>\n",
       "      <th>d_4</th>\n",
       "      <th>d_5</th>\n",
       "      <th>d_6</th>\n",
       "      <th>d_7</th>\n",
       "      <th>d_8</th>\n",
       "      <th>...</th>\n",
       "      <th>d_-10</th>\n",
       "      <th>d_-9</th>\n",
       "      <th>d_-8</th>\n",
       "      <th>d_-7</th>\n",
       "      <th>d_-6</th>\n",
       "      <th>d_-5</th>\n",
       "      <th>d_-4</th>\n",
       "      <th>d_-3</th>\n",
       "      <th>d_-2</th>\n",
       "      <th>d_-1</th>\n",
       "    </tr>\n",
       "  </thead>\n",
       "  <tbody>\n",
       "    <tr>\n",
       "      <th>99</th>\n",
       "      <td>GO</td>\n",
       "      <td>8.653203e-17</td>\n",
       "      <td>1</td>\n",
       "      <td>0.347438</td>\n",
       "      <td>0.095892</td>\n",
       "      <td>0.105186</td>\n",
       "      <td>0.038218</td>\n",
       "      <td>0.138142</td>\n",
       "      <td>0.095563</td>\n",
       "      <td>0.094059</td>\n",
       "      <td>...</td>\n",
       "      <td>0.047049</td>\n",
       "      <td>0.038491</td>\n",
       "      <td>0.070579</td>\n",
       "      <td>0.049183</td>\n",
       "      <td>0.130248</td>\n",
       "      <td>0.121826</td>\n",
       "      <td>0.115966</td>\n",
       "      <td>0.081708</td>\n",
       "      <td>0.050086</td>\n",
       "      <td>0.189018</td>\n",
       "    </tr>\n",
       "    <tr>\n",
       "      <th>42</th>\n",
       "      <td>GO</td>\n",
       "      <td>1.710651e-16</td>\n",
       "      <td>1</td>\n",
       "      <td>0.269822</td>\n",
       "      <td>0.076388</td>\n",
       "      <td>0.059425</td>\n",
       "      <td>0.076736</td>\n",
       "      <td>0.035720</td>\n",
       "      <td>0.144870</td>\n",
       "      <td>0.058440</td>\n",
       "      <td>...</td>\n",
       "      <td>0.015154</td>\n",
       "      <td>0.064588</td>\n",
       "      <td>0.089630</td>\n",
       "      <td>0.084046</td>\n",
       "      <td>0.113270</td>\n",
       "      <td>0.049140</td>\n",
       "      <td>0.144946</td>\n",
       "      <td>0.075156</td>\n",
       "      <td>0.006255</td>\n",
       "      <td>0.155584</td>\n",
       "    </tr>\n",
       "    <tr>\n",
       "      <th>46</th>\n",
       "      <td>GO</td>\n",
       "      <td>1.297413e-16</td>\n",
       "      <td>1</td>\n",
       "      <td>0.348464</td>\n",
       "      <td>0.108785</td>\n",
       "      <td>0.092179</td>\n",
       "      <td>0.059322</td>\n",
       "      <td>0.109815</td>\n",
       "      <td>0.121167</td>\n",
       "      <td>0.075997</td>\n",
       "      <td>...</td>\n",
       "      <td>0.042095</td>\n",
       "      <td>0.022200</td>\n",
       "      <td>0.066191</td>\n",
       "      <td>0.049689</td>\n",
       "      <td>0.143653</td>\n",
       "      <td>0.094487</td>\n",
       "      <td>0.156708</td>\n",
       "      <td>0.097331</td>\n",
       "      <td>0.043886</td>\n",
       "      <td>0.143313</td>\n",
       "    </tr>\n",
       "    <tr>\n",
       "      <th>166</th>\n",
       "      <td>GO</td>\n",
       "      <td>9.719245e-17</td>\n",
       "      <td>1</td>\n",
       "      <td>0.305158</td>\n",
       "      <td>0.148157</td>\n",
       "      <td>0.115171</td>\n",
       "      <td>0.058548</td>\n",
       "      <td>0.093640</td>\n",
       "      <td>0.097598</td>\n",
       "      <td>0.099837</td>\n",
       "      <td>...</td>\n",
       "      <td>0.006424</td>\n",
       "      <td>0.024172</td>\n",
       "      <td>0.076645</td>\n",
       "      <td>0.078202</td>\n",
       "      <td>0.104057</td>\n",
       "      <td>0.108322</td>\n",
       "      <td>0.189265</td>\n",
       "      <td>0.069305</td>\n",
       "      <td>0.090927</td>\n",
       "      <td>0.076460</td>\n",
       "    </tr>\n",
       "    <tr>\n",
       "      <th>49</th>\n",
       "      <td>GO</td>\n",
       "      <td>2.573389e-17</td>\n",
       "      <td>1</td>\n",
       "      <td>0.326711</td>\n",
       "      <td>0.113702</td>\n",
       "      <td>0.065551</td>\n",
       "      <td>0.081328</td>\n",
       "      <td>0.075414</td>\n",
       "      <td>0.150271</td>\n",
       "      <td>0.104546</td>\n",
       "      <td>...</td>\n",
       "      <td>0.007682</td>\n",
       "      <td>0.041887</td>\n",
       "      <td>0.068009</td>\n",
       "      <td>0.115111</td>\n",
       "      <td>0.126504</td>\n",
       "      <td>0.033561</td>\n",
       "      <td>0.131591</td>\n",
       "      <td>0.087743</td>\n",
       "      <td>0.082637</td>\n",
       "      <td>0.167949</td>\n",
       "    </tr>\n",
       "  </tbody>\n",
       "</table>\n",
       "<p>5 rows × 42 columns</p>\n",
       "</div>"
      ],
      "text/plain": [
       "    move_type           d_0  d_1       d_2       d_3       d_4       d_5  \\\n",
       "99         GO  8.653203e-17    1  0.347438  0.095892  0.105186  0.038218   \n",
       "42         GO  1.710651e-16    1  0.269822  0.076388  0.059425  0.076736   \n",
       "46         GO  1.297413e-16    1  0.348464  0.108785  0.092179  0.059322   \n",
       "166        GO  9.719245e-17    1  0.305158  0.148157  0.115171  0.058548   \n",
       "49         GO  2.573389e-17    1  0.326711  0.113702  0.065551  0.081328   \n",
       "\n",
       "          d_6       d_7       d_8    ...        d_-10      d_-9      d_-8  \\\n",
       "99   0.138142  0.095563  0.094059    ...     0.047049  0.038491  0.070579   \n",
       "42   0.035720  0.144870  0.058440    ...     0.015154  0.064588  0.089630   \n",
       "46   0.109815  0.121167  0.075997    ...     0.042095  0.022200  0.066191   \n",
       "166  0.093640  0.097598  0.099837    ...     0.006424  0.024172  0.076645   \n",
       "49   0.075414  0.150271  0.104546    ...     0.007682  0.041887  0.068009   \n",
       "\n",
       "         d_-7      d_-6      d_-5      d_-4      d_-3      d_-2      d_-1  \n",
       "99   0.049183  0.130248  0.121826  0.115966  0.081708  0.050086  0.189018  \n",
       "42   0.084046  0.113270  0.049140  0.144946  0.075156  0.006255  0.155584  \n",
       "46   0.049689  0.143653  0.094487  0.156708  0.097331  0.043886  0.143313  \n",
       "166  0.078202  0.104057  0.108322  0.189265  0.069305  0.090927  0.076460  \n",
       "49   0.115111  0.126504  0.033561  0.131591  0.087743  0.082637  0.167949  \n",
       "\n",
       "[5 rows x 42 columns]"
      ]
     },
     "execution_count": 3,
     "metadata": {},
     "output_type": "execute_result"
    }
   ],
   "source": [
    "dataset.head()"
   ]
  },
  {
   "cell_type": "code",
   "execution_count": 4,
   "metadata": {},
   "outputs": [],
   "source": [
    "labels = dataset['move_type']\n",
    "\n",
    "columns = [item for item in list(dataset.columns) if item!='move_type']\n",
    "features = dataset[columns]"
   ]
  },
  {
   "cell_type": "code",
   "execution_count": 5,
   "metadata": {},
   "outputs": [],
   "source": [
    "X_train, X_test, y_train, y_test = train_test_split(features.values, labels.values, test_size=0.33, random_state=42)"
   ]
  },
  {
   "cell_type": "markdown",
   "metadata": {},
   "source": [
    "# K-Means clustering"
   ]
  },
  {
   "cell_type": "code",
   "execution_count": 5,
   "metadata": {},
   "outputs": [],
   "source": [
    "n_clusters = 134\n",
    "score = []\n",
    "validation = []\n",
    "for i in range(2,n_clusters):\n",
    "    \n",
    "    kmeans = KMeans(n_clusters=i, random_state=0).fit(X_train)\n",
    "    score.append(kmeans.score(X_test, y_test))\n",
    "    validation.append(kmeans.score(X_train, y_train))\n"
   ]
  },
  {
   "cell_type": "code",
   "execution_count": 6,
   "metadata": {
    "scrolled": true
   },
   "outputs": [
    {
     "data": {
      "image/png": "[encoded data removed]",
      "text/plain": [
       "<matplotlib.figure.Figure at 0x7fec2e838390>"
      ]
     },
     "metadata": {},
     "output_type": "display_data"
    }
   ],
   "source": [
    "plt.plot(score)\n",
    "plt.plot(validation, 'r')\n",
    "plt.show()"
   ]
  },
  {
   "cell_type": "code",
   "execution_count": 7,
   "metadata": {},
   "outputs": [],
   "source": [
    "kmeans = KMeans(n_clusters=10, random_state=0, max_iter=10000).fit(X_train)"
   ]
  },
  {
   "cell_type": "code",
   "execution_count": 8,
   "metadata": {},
   "outputs": [
    {
     "data": {
      "text/plain": [
       "(10, 41)"
      ]
     },
     "execution_count": 8,
     "metadata": {},
     "output_type": "execute_result"
    }
   ],
   "source": [
    "kmeans.cluster_centers_.shape"
   ]
  },
  {
   "cell_type": "code",
   "execution_count": 9,
   "metadata": {},
   "outputs": [
    {
     "name": "stdout",
     "output_type": "stream",
     "text": [
      "[5 0 8 8 8 8 0 8 8 5 5 0 5 0 8 0 8 8 5 5 8 0 8 0 5 8 0 8 8 8 8 5 5 5 0 8 0\n",
      " 5 8 8 5 8 8 8 8 8 8 5 0]\n",
      "[1 7 1 7 9 1 1 3 3 3 1 1 3 1 3 7 3 7 3 1 7 1 1 7 1 7 1 3 1 1 1 3 9 3 9 1 1\n",
      " 1 3 9 1 3 1 7 1 9 1 3 1]\n",
      "[9 9 7 7 1 7 1 3 3 7 1 1 9 1 9 7 1 7 9 7 1 7 3 1 3 3 7 3 9 1 7 9 7 9 7 7 1\n",
      " 7 7 3 9 9 1 3 9 9 7 7 7]\n",
      "[2 2 2 2 2 2 6 2 2 2 2 2 2 2 5 2 2 2 6 2 6 2 2 6 6 2 2 5 6 2 2 2 2 2 2 6 2\n",
      " 2 2 6 4 2 2 6 2 2 2 2 2]\n"
     ]
    }
   ],
   "source": [
    "belong_to = kmeans.predict(features.values)\n",
    "print(belong_to[:49])\n",
    "print(belong_to[50:99])\n",
    "print(belong_to[100:149])\n",
    "print(belong_to[150:199])"
   ]
  },
  {
   "cell_type": "code",
   "execution_count": 10,
   "metadata": {},
   "outputs": [],
   "source": [
    "def reconstruct(descriptors):\n",
    "    \"\"\" reconstruct the image using the normalized descriptors and plot it\n",
    "        Keyword arguments: \n",
    "         - descriptors : the normalized fourier descriptors\n",
    "    \"\"\"\n",
    "    contour_reconstruct = np.fft.ifft(descriptors)\n",
    "    contour_reconstruct = np.array(\n",
    "        [contour_reconstruct.real, contour_reconstruct.imag])\n",
    "    contour_reconstruct = np.transpose(contour_reconstruct)\n",
    "    contour_reconstruct = np.expand_dims(contour_reconstruct, axis=1)\n",
    "    # make positive\n",
    "    if contour_reconstruct.min() < 0:\n",
    "        contour_reconstruct -= contour_reconstruct.min()\n",
    "    # normalization\n",
    "    contour_reconstruct *= 800 / contour_reconstruct.max()\n",
    "    # type cast to int32\n",
    "    contour_reconstruct = contour_reconstruct.astype(np.int32, copy=False)\n",
    "    black = np.zeros((800, 800), np.uint8)\n",
    "    # draw and visualize\n",
    "    cv2.drawContours(black, contour_reconstruct, -1, 255, thickness=-1)\n",
    "    cv2.imshow(\"black\", black)\n",
    "    cv2.waitKey(10000)\n",
    "    cv2.imwrite(\"reconstruct_result.jpg\", black)\n",
    "    cv2.destroyAllWindows()"
   ]
  },
  {
   "cell_type": "markdown",
   "metadata": {},
   "source": [
    "### To run if dataset and not dataset norm "
   ]
  },
  {
   "cell_type": "code",
   "execution_count": 13,
   "metadata": {},
   "outputs": [
    {
     "data": {
      "text/plain": [
       "'GO'"
      ]
     },
     "execution_count": 13,
     "metadata": {},
     "output_type": "execute_result"
    }
   ],
   "source": [
    "img_nb = 60\n",
    "complex_descriptors = []\n",
    "for i in range(int(len(features.values[img_nb])/2)):\n",
    "    complex_descriptors.append(complex(features.values[img_nb][2*i], features.values[img_nb][2*i+1]))\n",
    "reconstruct(complex_descriptors)\n",
    "labels[3]"
   ]
  },
  {
   "cell_type": "code",
   "execution_count": 14,
   "metadata": {},
   "outputs": [
    {
     "ename": "ValueError",
     "evalue": "x and y must be the same size",
     "output_type": "error",
     "traceback": [
      "\u001b[0;31m---------------------------------------------------------------------------\u001b[0m",
      "\u001b[0;31mValueError\u001b[0m                                Traceback (most recent call last)",
      "\u001b[0;32m<ipython-input-14-94b86d81c7db>\u001b[0m in \u001b[0;36m<module>\u001b[0;34m()\u001b[0m\n\u001b[0;32m----> 1\u001b[0;31m \u001b[0mplt\u001b[0m\u001b[0;34m.\u001b[0m\u001b[0mscatter\u001b[0m\u001b[0;34m(\u001b[0m\u001b[0mX_test\u001b[0m\u001b[0;34m[\u001b[0m\u001b[0;36m7\u001b[0m\u001b[0;34m]\u001b[0m\u001b[0;34m[\u001b[0m\u001b[0;36m3\u001b[0m\u001b[0;34m:\u001b[0m\u001b[0;34m:\u001b[0m\u001b[0;36m2\u001b[0m\u001b[0;34m]\u001b[0m\u001b[0;34m,\u001b[0m\u001b[0mX_test\u001b[0m\u001b[0;34m[\u001b[0m\u001b[0;36m7\u001b[0m\u001b[0;34m]\u001b[0m\u001b[0;34m[\u001b[0m\u001b[0;36m2\u001b[0m\u001b[0;34m:\u001b[0m\u001b[0;34m:\u001b[0m\u001b[0;36m2\u001b[0m\u001b[0;34m]\u001b[0m \u001b[0;34m)\u001b[0m\u001b[0;34m\u001b[0m\u001b[0m\n\u001b[0m\u001b[1;32m      2\u001b[0m plt.scatter(centers[1, 0], centers[:, 1], marker='o',\n\u001b[1;32m      3\u001b[0m                 c=\"white\", alpha=1, s=200, edgecolor='k')\n\u001b[1;32m      4\u001b[0m \u001b[0mplt\u001b[0m\u001b[0;34m.\u001b[0m\u001b[0mshow\u001b[0m\u001b[0;34m(\u001b[0m\u001b[0;34m)\u001b[0m\u001b[0;34m\u001b[0m\u001b[0m\n",
      "\u001b[0;32m/usr/lib/python3/dist-packages/matplotlib/pyplot.py\u001b[0m in \u001b[0;36mscatter\u001b[0;34m(x, y, s, c, marker, cmap, norm, vmin, vmax, alpha, linewidths, verts, edgecolors, hold, data, **kwargs)\u001b[0m\n\u001b[1;32m   3249\u001b[0m                          \u001b[0mvmin\u001b[0m\u001b[0;34m=\u001b[0m\u001b[0mvmin\u001b[0m\u001b[0;34m,\u001b[0m \u001b[0mvmax\u001b[0m\u001b[0;34m=\u001b[0m\u001b[0mvmax\u001b[0m\u001b[0;34m,\u001b[0m \u001b[0malpha\u001b[0m\u001b[0;34m=\u001b[0m\u001b[0malpha\u001b[0m\u001b[0;34m,\u001b[0m\u001b[0;34m\u001b[0m\u001b[0m\n\u001b[1;32m   3250\u001b[0m                          \u001b[0mlinewidths\u001b[0m\u001b[0;34m=\u001b[0m\u001b[0mlinewidths\u001b[0m\u001b[0;34m,\u001b[0m \u001b[0mverts\u001b[0m\u001b[0;34m=\u001b[0m\u001b[0mverts\u001b[0m\u001b[0;34m,\u001b[0m\u001b[0;34m\u001b[0m\u001b[0m\n\u001b[0;32m-> 3251\u001b[0;31m                          edgecolors=edgecolors, data=data, **kwargs)\n\u001b[0m\u001b[1;32m   3252\u001b[0m     \u001b[0;32mfinally\u001b[0m\u001b[0;34m:\u001b[0m\u001b[0;34m\u001b[0m\u001b[0m\n\u001b[1;32m   3253\u001b[0m         \u001b[0max\u001b[0m\u001b[0;34m.\u001b[0m\u001b[0mhold\u001b[0m\u001b[0;34m(\u001b[0m\u001b[0mwashold\u001b[0m\u001b[0;34m)\u001b[0m\u001b[0;34m\u001b[0m\u001b[0m\n",
      "\u001b[0;32m/usr/lib/python3/dist-packages/matplotlib/__init__.py\u001b[0m in \u001b[0;36minner\u001b[0;34m(ax, *args, **kwargs)\u001b[0m\n\u001b[1;32m   1812\u001b[0m                     warnings.warn(msg % (label_namer, func.__name__),\n\u001b[1;32m   1813\u001b[0m                                   RuntimeWarning, stacklevel=2)\n\u001b[0;32m-> 1814\u001b[0;31m             \u001b[0;32mreturn\u001b[0m \u001b[0mfunc\u001b[0m\u001b[0;34m(\u001b[0m\u001b[0max\u001b[0m\u001b[0;34m,\u001b[0m \u001b[0;34m*\u001b[0m\u001b[0margs\u001b[0m\u001b[0;34m,\u001b[0m \u001b[0;34m**\u001b[0m\u001b[0mkwargs\u001b[0m\u001b[0;34m)\u001b[0m\u001b[0;34m\u001b[0m\u001b[0m\n\u001b[0m\u001b[1;32m   1815\u001b[0m         \u001b[0mpre_doc\u001b[0m \u001b[0;34m=\u001b[0m \u001b[0minner\u001b[0m\u001b[0;34m.\u001b[0m\u001b[0m__doc__\u001b[0m\u001b[0;34m\u001b[0m\u001b[0m\n\u001b[1;32m   1816\u001b[0m         \u001b[0;32mif\u001b[0m \u001b[0mpre_doc\u001b[0m \u001b[0;32mis\u001b[0m \u001b[0;32mNone\u001b[0m\u001b[0;34m:\u001b[0m\u001b[0;34m\u001b[0m\u001b[0m\n",
      "\u001b[0;32m/usr/lib/python3/dist-packages/matplotlib/axes/_axes.py\u001b[0m in \u001b[0;36mscatter\u001b[0;34m(self, x, y, s, c, marker, cmap, norm, vmin, vmax, alpha, linewidths, verts, edgecolors, **kwargs)\u001b[0m\n\u001b[1;32m   3838\u001b[0m         \u001b[0my\u001b[0m \u001b[0;34m=\u001b[0m \u001b[0mnp\u001b[0m\u001b[0;34m.\u001b[0m\u001b[0mma\u001b[0m\u001b[0;34m.\u001b[0m\u001b[0mravel\u001b[0m\u001b[0;34m(\u001b[0m\u001b[0my\u001b[0m\u001b[0;34m)\u001b[0m\u001b[0;34m\u001b[0m\u001b[0m\n\u001b[1;32m   3839\u001b[0m         \u001b[0;32mif\u001b[0m \u001b[0mx\u001b[0m\u001b[0;34m.\u001b[0m\u001b[0msize\u001b[0m \u001b[0;34m!=\u001b[0m \u001b[0my\u001b[0m\u001b[0;34m.\u001b[0m\u001b[0msize\u001b[0m\u001b[0;34m:\u001b[0m\u001b[0;34m\u001b[0m\u001b[0m\n\u001b[0;32m-> 3840\u001b[0;31m             \u001b[0;32mraise\u001b[0m \u001b[0mValueError\u001b[0m\u001b[0;34m(\u001b[0m\u001b[0;34m\"x and y must be the same size\"\u001b[0m\u001b[0;34m)\u001b[0m\u001b[0;34m\u001b[0m\u001b[0m\n\u001b[0m\u001b[1;32m   3841\u001b[0m \u001b[0;34m\u001b[0m\u001b[0m\n\u001b[1;32m   3842\u001b[0m         \u001b[0ms\u001b[0m \u001b[0;34m=\u001b[0m \u001b[0mnp\u001b[0m\u001b[0;34m.\u001b[0m\u001b[0mma\u001b[0m\u001b[0;34m.\u001b[0m\u001b[0mravel\u001b[0m\u001b[0;34m(\u001b[0m\u001b[0ms\u001b[0m\u001b[0;34m)\u001b[0m  \u001b[0;31m# This doesn't have to match x, y in size.\u001b[0m\u001b[0;34m\u001b[0m\u001b[0m\n",
      "\u001b[0;31mValueError\u001b[0m: x and y must be the same size"
     ]
    }
   ],
   "source": [
    "plt.scatter(X_test[7][3::2],X_test[7][2::2] )\n",
    "plt.scatter(centers[1, 0], centers[:, 1], marker='o',\n",
    "                c=\"white\", alpha=1, s=200, edgecolor='k')\n",
    "plt.show()"
   ]
  },
  {
   "cell_type": "markdown",
   "metadata": {},
   "source": [
    "# KNN clustering"
   ]
  },
  {
   "cell_type": "code",
   "execution_count": 45,
   "metadata": {},
   "outputs": [
    {
     "data": {
      "image/png": "[encoded data removed]",
      "text/plain": [
       "<matplotlib.figure.Figure at 0x7fec2ad322b0>"
      ]
     },
     "metadata": {},
     "output_type": "display_data"
    }
   ],
   "source": [
    "# creating odd list of K for KNN\n",
    "myList = list(range(1,100))\n",
    "\n",
    "# subsetting just the odd ones\n",
    "neighbors = filter(lambda x: x % 2 != 0, myList)\n",
    "\n",
    "# empty list that will hold cv scores\n",
    "cv_scores = []\n",
    "\n",
    "# perform 10-fold cross validation\n",
    "for k in neighbors:\n",
    "    knn = KNeighborsClassifier(n_neighbors=k, weights = 'distance')\n",
    "    scores = cross_val_score(knn, X_train, y_train, cv=10, scoring='accuracy')\n",
    "    cv_scores.append(scores.mean())\n",
    "plt.plot(cv_scores)\n",
    "plt.show()"
   ]
  },
  {
   "cell_type": "code",
   "execution_count": 50,
   "metadata": {},
   "outputs": [],
   "source": [
    "knn_classifier = KNeighborsClassifier(n_neighbors=4, weights='distance').fit(X_train,y_train ) "
   ]
  },
  {
   "cell_type": "code",
   "execution_count": 51,
   "metadata": {},
   "outputs": [],
   "source": [
    "knn_belong_to = knn_classifier.predict(features.values)"
   ]
  },
  {
   "cell_type": "code",
   "execution_count": 52,
   "metadata": {},
   "outputs": [
    {
     "name": "stdout",
     "output_type": "stream",
     "text": [
      "['GO' 'GO' 'GO' 'GO' 'GO' 'GO' 'GO' 'GO' 'GO' 'GO' 'GO' 'GO' 'GO' 'GO' 'GO'\n",
      " 'GO' 'GO' 'GO' 'GO' 'GO' 'GO' 'GO' 'GO' 'GO' 'GO' 'GO' 'GO' 'GO' 'GO' 'GO'\n",
      " 'GO' 'GO' 'GO' 'GO' 'GO' 'GO' 'GO' 'GO' 'GO' 'GO' 'GO' 'GO' 'GO' 'GO' 'GO'\n",
      " 'GO' 'GO' 'GO' 'GO']\n",
      "['LEFT' 'LEFT' 'LEFT' 'LEFT' 'LEFT' 'LEFT' 'LEFT' 'LEFT' 'LEFT' 'LEFT'\n",
      " 'LEFT' 'LEFT' 'LEFT' 'LEFT' 'LEFT' 'RIGHT' 'LEFT' 'RIGHT' 'LEFT' 'LEFT'\n",
      " 'LEFT' 'LEFT' 'LEFT' 'LEFT' 'LEFT' 'RIGHT' 'LEFT' 'LEFT' 'LEFT' 'LEFT'\n",
      " 'LEFT' 'LEFT' 'RIGHT' 'LEFT' 'RIGHT' 'LEFT' 'LEFT' 'LEFT' 'LEFT' 'LEFT'\n",
      " 'LEFT' 'LEFT' 'LEFT' 'LEFT' 'LEFT' 'RIGHT' 'LEFT' 'LEFT' 'LEFT']\n",
      "['RIGHT' 'RIGHT' 'RIGHT' 'RIGHT' 'RIGHT' 'RIGHT' 'RIGHT' 'RIGHT' 'RIGHT'\n",
      " 'RIGHT' 'RIGHT' 'RIGHT' 'RIGHT' 'RIGHT' 'LEFT' 'RIGHT' 'RIGHT' 'RIGHT'\n",
      " 'RIGHT' 'RIGHT' 'RIGHT' 'RIGHT' 'RIGHT' 'RIGHT' 'RIGHT' 'RIGHT' 'RIGHT'\n",
      " 'RIGHT' 'LEFT' 'RIGHT' 'RIGHT' 'RIGHT' 'RIGHT' 'RIGHT' 'RIGHT' 'RIGHT'\n",
      " 'RIGHT' 'RIGHT' 'RIGHT' 'RIGHT' 'RIGHT' 'RIGHT' 'RIGHT' 'RIGHT' 'RIGHT'\n",
      " 'RIGHT' 'RIGHT' 'RIGHT' 'RIGHT']\n",
      "['STOP' 'STOP' 'STOP' 'STOP' 'STOP' 'STOP' 'STOP' 'STOP' 'STOP' 'STOP'\n",
      " 'STOP' 'STOP' 'STOP' 'STOP' 'GO' 'STOP' 'STOP' 'STOP' 'STOP' 'STOP' 'STOP'\n",
      " 'STOP' 'STOP' 'STOP' 'STOP' 'STOP' 'STOP' 'GO' 'STOP' 'STOP' 'STOP' 'STOP'\n",
      " 'STOP' 'STOP' 'STOP' 'STOP' 'STOP' 'STOP' 'STOP' 'STOP' 'STOP' 'STOP'\n",
      " 'STOP' 'STOP' 'STOP' 'STOP' 'STOP' 'STOP' 'STOP']\n"
     ]
    }
   ],
   "source": [
    "print(knn_belong_to[:49])\n",
    "print(knn_belong_to[50:99])\n",
    "print(knn_belong_to[100:149])\n",
    "print(knn_belong_to[150:199])"
   ]
  },
  {
   "cell_type": "code",
   "execution_count": 54,
   "metadata": {},
   "outputs": [],
   "source": [
    "test_prediction = knn_classifier.predict(X_test)"
   ]
  },
  {
   "cell_type": "code",
   "execution_count": 55,
   "metadata": {},
   "outputs": [
    {
     "name": "stdout",
     "output_type": "stream",
     "text": [
      "RIGHT\n",
      "LEFT\n",
      "GO\n",
      "RIGHT\n",
      "RIGHT\n",
      "RIGHT\n",
      "RIGHT\n",
      "RIGHT\n",
      "GO\n",
      "LEFT\n"
     ]
    }
   ],
   "source": [
    "for i in range(len(y_test)):\n",
    "    if y_test[i] != test_prediction[i]: \n",
    "        print(test_prediction[i])"
   ]
  },
  {
   "cell_type": "markdown",
   "metadata": {},
   "source": [
    "## Feedforward Neural Network "
   ]
  },
  {
   "cell_type": "code",
   "execution_count": 8,
   "metadata": {},
   "outputs": [],
   "source": [
    "from sklearn.neural_network import MLPClassifier\n",
    "clf = MLPClassifier(solver='adam', alpha=1e-7,\n",
    "                     hidden_layer_sizes=(1000,800,500,200,100,10), random_state=1, \n",
    "                     max_iter = 10000, early_stopping=True)\n",
    "\n",
    "clf.fit(X_train,y_train)                         \n",
    "test_fnn_prediction = clf.predict(X_test)"
   ]
  },
  {
   "cell_type": "code",
   "execution_count": 9,
   "metadata": {},
   "outputs": [
    {
     "name": "stdout",
     "output_type": "stream",
     "text": [
      "LEFT missclassified as STOP\n",
      "GO missclassified as STOP\n",
      "GO missclassified as STOP\n",
      "RIGHT missclassified as STOP\n",
      "RIGHT missclassified as STOP\n",
      "LEFT missclassified as STOP\n",
      "GO missclassified as STOP\n",
      "LEFT missclassified as STOP\n",
      "LEFT missclassified as STOP\n",
      "LEFT missclassified as STOP\n",
      "LEFT missclassified as STOP\n",
      "LEFT missclassified as STOP\n",
      "RIGHT missclassified as STOP\n",
      "GO missclassified as STOP\n",
      "RIGHT missclassified as STOP\n",
      "LEFT missclassified as STOP\n",
      "LEFT missclassified as STOP\n",
      "LEFT missclassified as STOP\n",
      "LEFT missclassified as STOP\n",
      "LEFT missclassified as STOP\n",
      "RIGHT missclassified as STOP\n",
      "RIGHT missclassified as STOP\n",
      "GO missclassified as STOP\n",
      "GO missclassified as STOP\n",
      "LEFT missclassified as STOP\n",
      "LEFT missclassified as STOP\n",
      "RIGHT missclassified as STOP\n",
      "RIGHT missclassified as STOP\n",
      "RIGHT missclassified as STOP\n",
      "LEFT missclassified as STOP\n",
      "LEFT missclassified as STOP\n",
      "GO missclassified as STOP\n",
      "GO missclassified as STOP\n",
      "RIGHT missclassified as STOP\n",
      "GO missclassified as STOP\n",
      "GO missclassified as STOP\n",
      "RIGHT missclassified as STOP\n",
      "LEFT missclassified as STOP\n",
      "RIGHT missclassified as STOP\n",
      "GO missclassified as STOP\n",
      "RIGHT missclassified as STOP\n",
      "RIGHT missclassified as STOP\n",
      "LEFT missclassified as STOP\n",
      "RIGHT missclassified as STOP\n",
      "LEFT missclassified as STOP\n",
      "LEFT missclassified as STOP\n",
      "LEFT missclassified as STOP\n",
      "GO missclassified as STOP\n",
      "GO missclassified as STOP\n",
      "GO missclassified as STOP\n",
      "RIGHT missclassified as STOP\n",
      "51\n"
     ]
    }
   ],
   "source": [
    "count = 0\n",
    "for i in range(len(y_test)):\n",
    "    if y_test[i] != test_fnn_prediction[i]: \n",
    "        print(\"{} missclassified as {}\".format(y_test[i], test_fnn_prediction[i]))\n",
    "        count +=1\n",
    "        \n",
    "print(count)\n"
   ]
  },
  {
   "cell_type": "code",
   "execution_count": 80,
   "metadata": {},
   "outputs": [
    {
     "data": {
      "text/plain": [
       "array(['GO', 'LEFT', 'RIGHT', 'STOP'],\n",
       "      dtype='<U5')"
      ]
     },
     "execution_count": 80,
     "metadata": {},
     "output_type": "execute_result"
    }
   ],
   "source": []
  },
  {
   "cell_type": "code",
   "execution_count": null,
   "metadata": {},
   "outputs": [],
   "source": []
  }
 ],
 "metadata": {
  "kernelspec": {
   "display_name": "Python 3",
   "language": "python",
   "name": "python3"
  },
  "language_info": {
   "codemirror_mode": {
    "name": "ipython",
    "version": 3
   },
   "file_extension": ".py",
   "mimetype": "text/x-python",
   "name": "python",
   "nbconvert_exporter": "python",
   "pygments_lexer": "ipython3",
   "version": "3.5.2"
  }
 },
 "nbformat": 4,
 "nbformat_minor": 2
}
