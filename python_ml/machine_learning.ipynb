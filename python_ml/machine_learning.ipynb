{
 "cells": [
  {
   "cell_type": "code",
   "execution_count": 73,
   "metadata": {},
   "outputs": [],
   "source": [
    "from sklearn.cluster import KMeans\n",
    "from sklearn.neighbors import KNeighborsClassifier, NearestNeighbors\n",
    "import sys \n",
    "import numpy as np\n",
    "import matplotlib.pyplot as plt\n",
    "from sklearn.model_selection import train_test_split\n",
    "import cv2\n",
    "import pandas"
   ]
  },
  {
   "cell_type": "code",
   "execution_count": 69,
   "metadata": {},
   "outputs": [],
   "source": [
    "dataset = pandas.read_csv('../dataset_norm.csv', delimiter=',').sort_values(by='move_type')"
   ]
  },
  {
   "cell_type": "code",
   "execution_count": 37,
   "metadata": {},
   "outputs": [],
   "source": [
    "labels = dataset['move_type']\n",
    "\n",
    "columns = [item for item in list(dataset.columns) if item!='move_type']\n",
    "features = dataset[columns]"
   ]
  },
  {
   "cell_type": "code",
   "execution_count": 38,
   "metadata": {},
   "outputs": [],
   "source": [
    "X_train, X_test, y_train, y_test = train_test_split(features.values, labels.values, test_size=0.33, random_state=42)"
   ]
  },
  {
   "cell_type": "markdown",
   "metadata": {},
   "source": [
    "# K-Means clustering"
   ]
  },
  {
   "cell_type": "code",
   "execution_count": 39,
   "metadata": {},
   "outputs": [],
   "source": [
    "n_clusters = 134\n",
    "score = []\n",
    "validation = []\n",
    "for i in range(2,n_clusters):\n",
    "    \n",
    "    kmeans = KMeans(n_clusters=i, random_state=0).fit(X_train)\n",
    "    score.append(kmeans.score(X_test, y_test))\n",
    "    validation.append(kmeans.score(X_train, y_train))\n"
   ]
  },
  {
   "cell_type": "code",
   "execution_count": 40,
   "metadata": {
    "scrolled": true
   },
   "outputs": [
    {
     "data": {
      "image/png": "[encoded data removed]",
      "text/plain": [
       "<matplotlib.figure.Figure at 0x7f3374603e80>"
      ]
     },
     "metadata": {},
     "output_type": "display_data"
    }
   ],
   "source": [
    "plt.plot(score)\n",
    "plt.plot(validation, 'r')\n",
    "plt.show()"
   ]
  },
  {
   "cell_type": "code",
   "execution_count": 65,
   "metadata": {},
   "outputs": [],
   "source": [
    "kmeans = KMeans(n_clusters=10, random_state=0, max_iter=10000).fit(X_train)"
   ]
  },
  {
   "cell_type": "code",
   "execution_count": 66,
   "metadata": {},
   "outputs": [
    {
     "data": {
      "text/plain": [
       "(10, 41)"
      ]
     },
     "execution_count": 66,
     "metadata": {},
     "output_type": "execute_result"
    }
   ],
   "source": [
    "kmeans.cluster_centers_.shape"
   ]
  },
  {
   "cell_type": "code",
   "execution_count": 67,
   "metadata": {},
   "outputs": [
    {
     "name": "stdout",
     "output_type": "stream",
     "text": [
      "[5 0 8 8 8 8 0 8 8 5 5 0 5 0 8 0 8 8 5 5 8 0 8 0 5 8 0 8 8 8 8 5 5 5 0 8 0\n",
      " 5 8 8 5 8 8 8 8 8 8 5 0]\n",
      "[1 7 1 7 9 1 1 3 3 3 1 1 3 1 3 7 3 7 3 1 7 1 1 7 1 7 1 3 1 1 1 3 9 3 9 1 1\n",
      " 1 3 9 1 3 1 7 1 9 1 3 1]\n",
      "[9 9 7 7 1 7 1 3 3 7 1 1 9 1 9 7 1 7 9 7 1 7 3 1 3 3 7 3 9 1 7 9 7 9 7 7 1\n",
      " 7 7 3 9 9 1 3 9 9 7 7 7]\n",
      "[2 2 2 2 2 2 6 2 2 2 2 2 2 2 5 2 2 2 6 2 6 2 2 6 6 2 2 5 6 2 2 2 2 2 2 6 2\n",
      " 2 2 6 4 2 2 6 2 2 2 2 2]\n"
     ]
    }
   ],
   "source": [
    "belong_to = kmeans.predict(features.values)\n",
    "print(belong_to[:49])\n",
    "print(belong_to[50:99])\n",
    "print(belong_to[100:149])\n",
    "print(belong_to[150:199])"
   ]
  },
  {
   "cell_type": "code",
   "execution_count": 12,
   "metadata": {},
   "outputs": [],
   "source": [
    "def reconstruct(descriptors):\n",
    "    \"\"\" reconstruct the image using the normalized descriptors and plot it\n",
    "        Keyword arguments: \n",
    "         - descriptors : the normalized fourier descriptors\n",
    "    \"\"\"\n",
    "    contour_reconstruct = np.fft.ifft(descriptors)\n",
    "    contour_reconstruct = np.array(\n",
    "        [contour_reconstruct.real, contour_reconstruct.imag])\n",
    "    contour_reconstruct = np.transpose(contour_reconstruct)\n",
    "    contour_reconstruct = np.expand_dims(contour_reconstruct, axis=1)\n",
    "    # make positive\n",
    "    if contour_reconstruct.min() < 0:\n",
    "        contour_reconstruct -= contour_reconstruct.min()\n",
    "    # normalization\n",
    "    contour_reconstruct *= 800 / contour_reconstruct.max()\n",
    "    # type cast to int32\n",
    "    contour_reconstruct = contour_reconstruct.astype(np.int32, copy=False)\n",
    "    black = np.zeros((800, 800), np.uint8)\n",
    "    # draw and visualize\n",
    "    cv2.drawContours(black, contour_reconstruct, -1, 255, thickness=-1)\n",
    "    cv2.imshow(\"black\", black)\n",
    "    cv2.waitKey(10000)\n",
    "    cv2.imwrite(\"reconstruct_result.jpg\", black)\n",
    "    cv2.destroyAllWindows()"
   ]
  },
  {
   "cell_type": "code",
   "execution_count": 32,
   "metadata": {},
   "outputs": [
    {
     "data": {
      "text/plain": [
       "'GO'"
      ]
     },
     "execution_count": 32,
     "metadata": {},
     "output_type": "execute_result"
    }
   ],
   "source": [
    "img_nb = 60\n",
    "complex_descriptors = []\n",
    "for i in range(int(len(features.values[img_nb])/2)):\n",
    "    complex_descriptors.append(complex(features.values[img_nb][2*i], features.values[img_nb][2*i+1]))\n",
    "reconstruct(complex_descriptors)\n",
    "labels[3]"
   ]
  },
  {
   "cell_type": "code",
   "execution_count": 41,
   "metadata": {},
   "outputs": [
    {
     "data": {
      "image/png": "[encoded data removed]",
      "text/plain": [
       "<matplotlib.figure.Figure at 0x7fa6796f62e8>"
      ]
     },
     "metadata": {},
     "output_type": "display_data"
    }
   ],
   "source": [
    "plt.scatter(X_test[7][3::2],X_test[7][2::2] )\n",
    "plt.scatter(centers[1, 0], centers[:, 1], marker='o',\n",
    "                c=\"white\", alpha=1, s=200, edgecolor='k')\n",
    "plt.show()"
   ]
  },
  {
   "cell_type": "markdown",
   "metadata": {},
   "source": [
    "# KNN clustering"
   ]
  },
  {
   "cell_type": "code",
   "execution_count": 80,
   "metadata": {},
   "outputs": [],
   "source": [
    "knn_classifier = KNeighborsClassifier(n_neighbors=4).fit(X_train,y_train ) "
   ]
  },
  {
   "cell_type": "code",
   "execution_count": 81,
   "metadata": {},
   "outputs": [],
   "source": [
    "knn_belong_to = knn_classifier.predict(features.values)"
   ]
  },
  {
   "cell_type": "code",
   "execution_count": 82,
   "metadata": {},
   "outputs": [
    {
     "name": "stdout",
     "output_type": "stream",
     "text": [
      "['GO' 'GO' 'GO' 'GO' 'GO' 'GO' 'GO' 'GO' 'GO' 'GO' 'GO' 'GO' 'GO' 'GO' 'GO'\n",
      " 'GO' 'GO' 'GO' 'GO' 'GO' 'GO' 'GO' 'GO' 'GO' 'GO' 'GO' 'GO' 'GO' 'GO' 'GO'\n",
      " 'GO' 'GO' 'GO' 'GO' 'GO' 'GO' 'GO' 'GO' 'GO' 'GO' 'GO' 'GO' 'GO' 'GO' 'GO'\n",
      " 'GO' 'GO' 'GO' 'GO']\n",
      "['LEFT' 'LEFT' 'LEFT' 'LEFT' 'LEFT' 'LEFT' 'LEFT' 'LEFT' 'LEFT' 'LEFT'\n",
      " 'LEFT' 'LEFT' 'LEFT' 'LEFT' 'LEFT' 'RIGHT' 'LEFT' 'LEFT' 'LEFT' 'LEFT'\n",
      " 'LEFT' 'LEFT' 'LEFT' 'LEFT' 'LEFT' 'RIGHT' 'LEFT' 'LEFT' 'LEFT' 'LEFT'\n",
      " 'LEFT' 'LEFT' 'RIGHT' 'LEFT' 'RIGHT' 'LEFT' 'LEFT' 'LEFT' 'LEFT' 'RIGHT'\n",
      " 'LEFT' 'LEFT' 'LEFT' 'LEFT' 'LEFT' 'RIGHT' 'LEFT' 'LEFT' 'LEFT']\n",
      "['RIGHT' 'RIGHT' 'RIGHT' 'RIGHT' 'RIGHT' 'RIGHT' 'RIGHT' 'LEFT' 'LEFT'\n",
      " 'RIGHT' 'LEFT' 'LEFT' 'RIGHT' 'RIGHT' 'LEFT' 'RIGHT' 'LEFT' 'RIGHT'\n",
      " 'RIGHT' 'RIGHT' 'LEFT' 'RIGHT' 'LEFT' 'RIGHT' 'LEFT' 'RIGHT' 'RIGHT'\n",
      " 'RIGHT' 'LEFT' 'LEFT' 'RIGHT' 'RIGHT' 'RIGHT' 'RIGHT' 'RIGHT' 'LEFT'\n",
      " 'RIGHT' 'RIGHT' 'RIGHT' 'LEFT' 'RIGHT' 'RIGHT' 'RIGHT' 'RIGHT' 'RIGHT'\n",
      " 'LEFT' 'RIGHT' 'RIGHT' 'RIGHT']\n",
      "['STOP' 'STOP' 'STOP' 'STOP' 'STOP' 'STOP' 'STOP' 'STOP' 'STOP' 'STOP'\n",
      " 'STOP' 'STOP' 'STOP' 'STOP' 'GO' 'STOP' 'STOP' 'STOP' 'STOP' 'STOP' 'STOP'\n",
      " 'STOP' 'STOP' 'STOP' 'STOP' 'STOP' 'STOP' 'GO' 'STOP' 'STOP' 'STOP' 'STOP'\n",
      " 'STOP' 'STOP' 'STOP' 'STOP' 'STOP' 'STOP' 'STOP' 'STOP' 'GO' 'STOP' 'STOP'\n",
      " 'STOP' 'STOP' 'STOP' 'STOP' 'STOP' 'STOP']\n"
     ]
    }
   ],
   "source": [
    "print(knn_belong_to[:49])\n",
    "print(knn_belong_to[50:99])\n",
    "print(knn_belong_to[100:149])\n",
    "print(knn_belong_to[150:199])"
   ]
  },
  {
   "cell_type": "code",
   "execution_count": null,
   "metadata": {},
   "outputs": [],
   "source": []
  }
 ],
 "metadata": {
  "kernelspec": {
   "display_name": "Python 3",
   "language": "python",
   "name": "python3"
  },
  "language_info": {
   "codemirror_mode": {
    "name": "ipython",
    "version": 3
   },
   "file_extension": ".py",
   "mimetype": "text/x-python",
   "name": "python",
   "nbconvert_exporter": "python",
   "pygments_lexer": "ipython3",
   "version": "3.5.2"
  }
 },
 "nbformat": 4,
 "nbformat_minor": 2
}
